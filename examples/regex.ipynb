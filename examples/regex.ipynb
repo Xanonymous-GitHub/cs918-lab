{
 "cells": [
  {
   "cell_type": "markdown",
   "metadata": {},
   "source": [
    "# Regular expressions and Python"
   ]
  },
  {
   "cell_type": "markdown",
   "metadata": {},
   "source": [
    "Regular expressions are a formalism for extracting structured information from unstructured text. \n",
    "Using this formalism we can specify a pattern to match the target strings which will be selected based on their structure. \n",
    "\n",
    "For example, we might be interested in filtering all the strings which contain at least one number - the regular expressions can help us in specifying and detecting those strings.\n",
    "\n",
    "In this chapter, we introduce the Python `re` module. We will try to identify a list of figures in a scientific paper and the number of times each one is referenced."
   ]
  },
  {
   "cell_type": "markdown",
   "metadata": {},
   "source": [
    "## Regular expression formalism\n",
    "\n",
    "Regular expressions are used to express text in a generic way so that we can match patterns that crop up in long strings of information. \n",
    "\n",
    "We will focus on a few basic concepts:\n",
    "<table>\n",
    "<tr>\n",
    "    <th>Expression</th>\n",
    "    <th>Meaning</th>\n",
    "    <th>Examples that match</th>\n",
    "    <th>Examples that don't match</th>\n",
    "</tr>\n",
    "<tr>\n",
    "<td>[A-Z]</td>\n",
    "<td>Matches any character A-Z</td>\n",
    "<td>A, B, C</td>\n",
    "<td>a, AA, 0</td>\n",
    "</tr>\n",
    "<tr>\n",
    "<td>[A-Z]+</td>\n",
    "<td>Matches any character A-Z 1-to-many times</td>\n",
    "<td>A,AA, AAA, AAB, ABCD, JAMES, COFFEE, SPAM</td>\n",
    "<td>a, aaa, james, coffee, Coffee or emptystring</td>\n",
    "</tr>\n",
    "<tr>\n",
    "<td>[A-Za-z]+</td>\n",
    "<td>Matches any character A-Z or a-z 1-to-many times</td>\n",
    "<td>James, Aa, Abc</td>\n",
    "<td>Test123, C O F F E E</td>\n",
    "</tr>\n",
    "<tr>\n",
    "<td>[A-Za-z0-9]+</td>\n",
    "<td>Matches any character A-Z, a-z or 0-9 1-to-many times</td>\n",
    "<td>James, Aa, Abc, Test123</td>\n",
    "<td>C O F F E E, Coffee? Coffee!</td>\n",
    "</tr>\n",
    "</table>\n",
    "\n",
    "Note that the examples above are indicating full string matches.\n",
    "\n",
    "Let's try some of these in the language.\n"
   ]
  },
  {
   "cell_type": "code",
   "execution_count": null,
   "metadata": {},
   "outputs": [],
   "source": [
    "import re\n",
    "\n",
    "def match(pattern, string):\n",
    "    \n",
    "    result = False\n",
    "    \n",
    "    # If one or more characters at the beginning of string match this regular expression, \n",
    "    # return a corresponding match object. \n",
    "    # Return None if the string does not match the pattern.\n",
    "    match = re.match(pattern, string)\n",
    "        \n",
    "    if match:\n",
    "        result = True\n",
    "    \n",
    "    print(\"Testing if {} will match {}. Result: {}\".format(pattern, string, result))\n",
    "    \n",
    "    return match\n",
    "\n",
    "\n",
    "match(\"[A-Z]\", \"A\")\n",
    "match(\"[A-Z]\", \"a\")\n",
    "match(\"[A-Z]\", \"0\")\n",
    "match(\"[A-Z]\", \"AA\")\n",
    "print(match(\"[A-Z]\", \"AA\"))"
   ]
  },
  {
   "cell_type": "markdown",
   "metadata": {},
   "source": [
    "Let's try with [A-Z]+"
   ]
  },
  {
   "cell_type": "code",
   "execution_count": null,
   "metadata": {},
   "outputs": [],
   "source": [
    "match(\"[A-Z]+\", \"A\")\n",
    "match(\"[A-Z]+\", \"a\")\n",
    "match(\"[A-Z]+\", \"0\")\n",
    "\n",
    "print(\"\")\n",
    "\n",
    "result = match(\"[A-Z]+\", \"AA\")\n",
    "print(\"Matched against substring '{}'\\n\".format(result.group(0)))\n",
    "\n",
    "result = match(\"[A-Z]+\", \"C O F F E E\")\n",
    "print(\"Matched against substring '{}'\\n\".format(result.group(0)))\n",
    "\n",
    "result = match(\"[A-Z]+\", \"James\")\n",
    "print(\"Matched against substring '{}'\".format(result.group(0)))\n",
    "\n",
    "result = match(\"[A-Z]+\", \"JAMes\")\n",
    "print(\"Matched against substring '{}'\".format(result.group(0)))"
   ]
  },
  {
   "cell_type": "markdown",
   "metadata": {},
   "source": [
    "## More examples of regular expression syntax\n",
    "\n",
    "Here are a few more examples that are useful for the following examples:\n",
    "\n",
    "<table>\n",
    "<tr>\n",
    "<th>Regular Expression</th>\n",
    "<th>Meaning</th>\n",
    "</tr>\n",
    "<tr>\n",
    "<td>.</td>\n",
    "<td>Match any non-whitespace character. Note that it also includes punctuations.</td>\n",
    "</tr>\n",
    "<tr>\n",
    "<td>*</td>\n",
    "<td>Match 0-many of the preceeding pattern. For example .* would match any number of non-whitespace characters including no input at all.</td>\n",
    "</tr>\n",
    "<tr>\n",
    "<td>?</td>\n",
    "<td>Match the preceeding pattern 0-1 times. This is great for specifying that something is optional.</td>\n",
    "</tr>\n",
    "<tr>\n",
    "<td>\\s</td>\n",
    "<td>Matches whitespace characters - space, tab and newline if MULTILINE patterns are enabled.</td>\n",
    "</tr>\n",
    "</table>\n",
    "\n",
    "To find out more about what Python supports, check out [the documentation page](https://docs.python.org/3/library/re.html#regular-expression-syntax) on regular expressions."
   ]
  },
  {
   "cell_type": "markdown",
   "metadata": {},
   "source": [
    "## Real world application.\n",
    "\n",
    "Let's find out how many figures there are in the ART corpus (https://www.aber.ac.uk/en/cs/research/cb/projects/art/art-corpus/) and how many times they are referenced. "
   ]
  },
  {
   "cell_type": "markdown",
   "metadata": {},
   "source": [
    "### Loading and parsing all ART corpus papers\n",
    "We first read a Pickle file, previosly prepared, with filenames, id and text of sentence from the corpus."
   ]
  },
  {
   "cell_type": "code",
   "execution_count": null,
   "metadata": {},
   "outputs": [],
   "source": [
    "import pickle\n",
    "\n",
    "# 'all_sentences' is a list of tuples (filenames, id, text) for each sentence.\n",
    "with open(\"Datasets/art_dataset.pickle\",\"rb\") as f:\n",
    "    all_sentences = pickle.load(f)  \n",
    "\n",
    "    \n",
    "print (\"Number of sentences loaded: \",len(all_sentences))\n",
    "\n",
    "# Print few samples of sentences\n",
    "for s in all_sentences[:3]:\n",
    "    print(\"\\nS: \", s)"
   ]
  },
  {
   "cell_type": "markdown",
   "metadata": {},
   "source": [
    "### Defining a regular expression\n",
    "\n",
    "Now, we are interested in finding out where the authors reference figures in the papers. Depending on their writing style, some authors might use \"Figure 1\", some \"Fig. 1\" an some others \"Fig 1\" (without dot). We should check and account for each of these.\n",
    "\n",
    "Also, sometimes figures have subfigures (i.e. Fig 1.A or 1.B), so we need to match for these too."
   ]
  },
  {
   "cell_type": "code",
   "execution_count": null,
   "metadata": {},
   "outputs": [],
   "source": [
    "# If you’re not using a raw string to express the pattern, python will see the backslash as an escape sequence in string literals\n",
    "pattern = r\"Fig(ure)?.?\\s+([0-9A-B](\\.[A-Za-z0-9])*)\"\n",
    "\n",
    "print(re.match(pattern, \"Fig. 1\"))\n",
    "print(re.match(pattern, \"Fig 1\"))\n",
    "print(re.match(pattern, \"Figure 1\"))\n",
    "\n",
    "# re.match() checks for a match only at the beginning of the string\n",
    "print(\"\\nPartial match:\", re.match(pattern, \"Fig 1.A\"))\n",
    "\n",
    "print(\"\")\n",
    "\n",
    "# re. fullmatch() checks for entire string to be a match\n",
    "print(\"Full match:\")\n",
    "print(re.fullmatch(pattern, \"Fig 1.A\"))"
   ]
  },
  {
   "cell_type": "markdown",
   "metadata": {},
   "source": [
    "The brackets around 'ure' and a ? in Figure means that the ure in Figure is optional (the author might just say \"Fig\"). Brackets (parenthesis) allows you to define \"groups\" to capture variables and also define sub-patterns. \n",
    "\n",
    "We also put brackets around the portion that describes the figure number to allow us more flexibility. \n",
    "\n",
    "Now we will perform a quick check of our current regular expresion:"
   ]
  },
  {
   "cell_type": "code",
   "execution_count": null,
   "metadata": {},
   "outputs": [],
   "source": [
    "tests = [\"Fig. 1\", \"Fig 1\", \"Figure 1\", \"Fig. 1.A\", \"Figure 2.C\", \"Figure. 3\"]\n",
    "\n",
    "for t in tests:\n",
    "    m = re.match(pattern,t)\n",
    "    \n",
    "    if not m:\n",
    "        print(\"Test failed for \", t)\n",
    "    else:\n",
    "        # group() function allows you to extract groups denoted by `()` in your expressions\n",
    "        # Group 0 always returns the string that matched the whole expression from start to end\n",
    "        print (\"Matched span: '{}'\".format(m.group(0)))\n",
    "        print(\"--------------------\")"
   ]
  },
  {
   "cell_type": "markdown",
   "metadata": {},
   "source": [
    "The `re.match` and `re.search` functions both return a `Match` object or `None` if the regex failed. \n",
    "\n",
    "Now let's find out how many times figures are brought up in papers in the ART corpus."
   ]
  },
  {
   "cell_type": "code",
   "execution_count": null,
   "metadata": {},
   "outputs": [],
   "source": [
    "from collections import Counter\n",
    "\n",
    "# A Counter object is like a dictionary but associating to each key a counter\n",
    "# Example of Counter usage\n",
    "# Counter.update(['blue', 'red', 'blue', 'yellow', 'blue', 'red'])\n",
    "# Counter({'blue': 3, 'red': 2, 'yellow': 1})\n",
    "\n",
    "# Creating a dictionary made of Counters\n",
    "# we want figs to be: {filename: Counter{fig_id: fig_appeared_times_in_filename}}\n",
    "figs = {filename: Counter() for filename, id, text in all_sentences}    \n",
    "\n",
    "pattern = r\"Fig(ure)?.?\\s+([0-9A-B](\\.[A-Za-z0-9])*)\"\n",
    "\n",
    "# Return a list of figures mentioned in \"sentence\"\n",
    "def match_sent(sentence):\n",
    "    filename, sentence_id, sentence_text = sentence\n",
    "    sfigs = [] # matched figure ids in \"sentence\"\n",
    "    \n",
    "    # \"findall()\" returns all matches of the pattern in brackets, as a list of strings\n",
    "    # The string is scanned left-to-right, and matches are returned in the order found\n",
    "    for m in re.findall(pattern, sentence_text):\n",
    "        sfigs.append(m[1])  # matched figure id\n",
    "        # sfigs.append(m)\n",
    "        \n",
    "    return filename, sentence_id, sfigs\n",
    "\n",
    "\n",
    "# Map is a function that works as an iterator to return a result after applying a function to every item of an iterable\n",
    "for filename, sentence_id, sentencefigs in map(match_sent, all_sentences):\n",
    "    # For each filaname, update when a particular figure is mentionated in a sentence\n",
    "    figs[filename].update(sentencefigs)\n",
    "    \n",
    "\n",
    "for file in figs:\n",
    "    print(\"\\nFile \", file)\n",
    "    print(\"References to figures...: \")\n",
    "    print(figs[file])"
   ]
  },
  {
   "cell_type": "markdown",
   "metadata": {},
   "source": [
    "So, now we know which papers have which figures and we can find out which paper has highest number of different cited figures and which one references figures the most.\n"
   ]
  },
  {
   "cell_type": "code",
   "execution_count": null,
   "metadata": {},
   "outputs": [],
   "source": [
    "# list of tuples: [(file_name, number of figures mentions in 'file_name')]\n",
    "sorted_figs_by_refcount = [(x, sum(figs[x].values())) for x in \n",
    "                               sorted(figs, key=lambda x: sum(figs[x].values()), reverse=True)] \n",
    "\n",
    "# [(file_name, number of different figures ids in 'file_name')]\n",
    "sorted_figs_by_variety = [(x, len(figs[x])) for x in \n",
    "                           sorted(figs, key=lambda x: len(figs[x]), reverse=True)] \n",
    "\n",
    "print(\"Top 5 papers by number of references to figures (frequency)\")\n",
    "for paper,count in sorted_figs_by_refcount[0:5]:\n",
    "    print(\"Title: {} Count: {}\".format(paper,count))\n",
    "print(\"\\n\\n\")\n",
    "print(\"Top 5 papers by number of different figures in paper (variance)\")\n",
    "for paper,count in sorted_figs_by_variety[0:5]:\n",
    "    print(\"Title: {} Count: {}\".format(paper,count))\n",
    "\n"
   ]
  },
  {
   "cell_type": "markdown",
   "metadata": {},
   "source": [
    "## Conclusion\n",
    "\n",
    "We have used regular expressions to parse semi-structured data inside the ART Corpus and determine which of the papers have the most diverse and most frequent references to figures.\n",
    "\n",
    "For more methods supported by the 're' package, check the python documentation or this tutorial: [W3School](https://www.w3schools.com/python/python_regex.asp)"
   ]
  }
 ],
 "metadata": {
  "kernelspec": {
   "display_name": "Python 3 (ipykernel)",
   "language": "python",
   "name": "python3"
  },
  "language_info": {
   "codemirror_mode": {
    "name": "ipython",
    "version": 3
   },
   "file_extension": ".py",
   "mimetype": "text/x-python",
   "name": "python",
   "nbconvert_exporter": "python",
   "pygments_lexer": "ipython3",
   "version": "3.12.0"
  }
 },
 "nbformat": 4,
 "nbformat_minor": 4
}
