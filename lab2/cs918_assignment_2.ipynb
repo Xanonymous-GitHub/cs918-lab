{
 "cells": [
  {
   "cell_type": "markdown",
   "metadata": {},
   "source": [
    "# Assignment Two:  Sentiment Classification\n",
    "\n",
    "For this exercise you will be using the \"SemEval 2017 task 4\" corpus provided on the module website, available through the following link: https://warwick.ac.uk/fac/sci/dcs/teaching/material/cs918/semeval-tweets.tar.bz2 You will focus particularly on Subtask A, i.e. classifying the overall sentiment of a tweet as positive, negative or neutral.\n",
    "\n",
    "You are requested to produce a Jupyter notebook for the coursework submission. The input to your program is the SemEval data downloaded. Note that TAs need to run your program on their own machine by using the original SemEval data. As such, don’t submit a Python program that takes as input some preprocessed files."
   ]
  },
  {
   "cell_type": "markdown",
   "metadata": {},
   "source": [
    "#### Install packages\n",
    "Only need to run when not in the virtual environment"
   ]
  },
  {
   "cell_type": "code",
   "execution_count": 39,
   "metadata": {},
   "outputs": [],
   "source": [
    "%%bash\n",
    "\n",
    "# Check if not in a Python virtual environment\n",
    "if [[ -z \"$VIRTUAL_ENV\" ]]\n",
    "then\n",
    "    # Check if the requirements.txt file exists\n",
    "    if [ -f requirements.txt ]\n",
    "    then\n",
    "        echo \"Found requirements.txt, starting to install dependencies...\"\n",
    "        \n",
    "        # Here you would typically use bash pip command as the magic command %pip won't work in bash cell\n",
    "        pip install -r requirements.txt --quiet --no-cache-dir --disable-pip-version-check\n",
    "    else\n",
    "        echo \"requirements.txt not found, please ensure the file is in the current directory.\"\n",
    "    fi\n",
    "fi"
   ]
  },
  {
   "cell_type": "markdown",
   "metadata": {},
   "source": [
    "#### Define Utility Functions"
   ]
  },
  {
   "cell_type": "code",
   "execution_count": 40,
   "metadata": {},
   "outputs": [],
   "source": [
    "from collections.abc import Generator, Sequence\n",
    "from os import path, getcwd, listdir, makedirs\n",
    "\n",
    "\n",
    "def read_file_lines_from(file_path: str, /) -> Generator[str, None, None]:\n",
    "    \"\"\"\n",
    "    Read lines from a file and yield each line as a string.\n",
    "    The path to the file is relative to the current working directory.\n",
    "\n",
    "    Args:\n",
    "        file_path (str): The path to the file to be read.\n",
    "\n",
    "    Yields:\n",
    "        str: Each line of the file, stripped of leading and trailing whitespace.\n",
    "    \"\"\"\n",
    "    full_path = path.join(getcwd(), file_path)\n",
    "    buffer_size = 1024 * 1024\n",
    "    with open(full_path, 'r', buffering=buffer_size, encoding='utf8') as file:\n",
    "        for line in file:\n",
    "            yield line.strip()\n",
    "\n",
    "\n",
    "def write_file_lines_to(file_path: str, /, *, lines: Sequence[str]) -> None:\n",
    "    \"\"\"\n",
    "    Write a sequence of lines to a file.\n",
    "\n",
    "    Args:\n",
    "        file_path (str): The path to the file.\n",
    "        lines (Sequence[str]): A sequence of strings representing the lines to be written.\n",
    "    \"\"\"\n",
    "    full_path = path.join(getcwd(), file_path)\n",
    "    buffer_size = 1024 * 1024\n",
    "    with open(full_path, 'w', buffering=buffer_size) as file:\n",
    "        for line in lines:\n",
    "            file.write(f\"{line}\\n\")\n",
    "\n",
    "\n",
    "def ls(dir_path: str, /) -> tuple[str, ...]:\n",
    "    \"\"\"\n",
    "    List all files and directories in the specified directory.\n",
    "    \"\"\"\n",
    "    full_path = path.join(getcwd(), dir_path)\n",
    "    return tuple(listdir(full_path))\n",
    "\n",
    "\n",
    "def mkdir(dir_path: str, /) -> None:\n",
    "    \"\"\"\n",
    "    Create a directory.\n",
    "    \"\"\"\n",
    "    full_path = path.join(getcwd(), dir_path)\n",
    "    if not path.exists(full_path):\n",
    "        makedirs(full_path)\n",
    "\n",
    "\n",
    "def path_exists(location: str, /) -> bool:\n",
    "    \"\"\"\n",
    "    Check if the specified path exists.\n",
    "    \"\"\"\n",
    "    full_path = path.join(getcwd(), location)\n",
    "    return path.exists(full_path)\n",
    "\n",
    "\n",
    "def without_ext(file_name: str, /) -> str:\n",
    "    \"\"\"\n",
    "    Returns the file name without the extension.\n",
    "\n",
    "    Example:\n",
    "    >>> without_ext(\"example.txt\")\n",
    "    'example'\n",
    "    \"\"\"\n",
    "    return path.splitext(file_name)[0]"
   ]
  },
  {
   "cell_type": "code",
   "execution_count": 41,
   "metadata": {},
   "outputs": [],
   "source": [
    "from collections.abc import Callable\n",
    "from threading import Thread, Lock\n",
    "from typing import final\n",
    "\n",
    "\n",
    "@final\n",
    "class BackgroundTask:\n",
    "    \"\"\"\n",
    "    Represents a background task that can be executed concurrently.\n",
    "\n",
    "    Args:\n",
    "        task (Callable): The function or method to be executed as a background task.\n",
    "        *args: Variable length argument list to be passed to the task.\n",
    "        **kwargs: Arbitrary keyword arguments to be passed to the task.\n",
    "    \"\"\"\n",
    "\n",
    "    def __init__(self, task: Callable[..., None], *args, **kwargs):\n",
    "        self.__task = Thread(\n",
    "            target=task,\n",
    "            args=args,\n",
    "            kwargs=kwargs,\n",
    "            daemon=True\n",
    "        )\n",
    "        with Lock():\n",
    "            self.__task.start()\n",
    "\n",
    "    def wait(self) -> None:\n",
    "        \"\"\"\n",
    "        Waits for the background task to complete.\n",
    "        \"\"\"\n",
    "        return self.__task.join()"
   ]
  },
  {
   "cell_type": "code",
   "execution_count": 42,
   "metadata": {},
   "outputs": [],
   "source": [
    "def unzip_file_to(file_path: str, /, destination: str) -> None:\n",
    "    \"\"\"\n",
    "    Unzip a file to a specified destination.\n",
    "\n",
    "    Args:\n",
    "        file_path (str): The path to the file to be unzipped.\n",
    "        destination (str): The path to the directory where the file will be unzipped.\n",
    "    \"\"\"\n",
    "    import zipfile\n",
    "    full_path = path.join(getcwd(), file_path)\n",
    "    with zipfile.ZipFile(full_path, 'r') as zip_ref:\n",
    "        zip_ref.extractall(destination)"
   ]
  },
  {
   "cell_type": "code",
   "execution_count": 43,
   "metadata": {},
   "outputs": [],
   "source": [
    "from typing import Any, Final, Optional\n",
    "from shelve import open as shelve_open\n",
    "\n",
    "\n",
    "class GlobalCache:\n",
    "    \"\"\"\n",
    "    A simple global cache for storing data in memory.\n",
    "    \"\"\"\n",
    "\n",
    "    __runtime_cache: Final[dict[str, Any]] = {}\n",
    "    __cache_file_name: Final[str] = 'cache'\n",
    "\n",
    "    def put(self, key: str, value: object, /) -> None:\n",
    "        \"\"\"\n",
    "        Put a value into the cache.\n",
    "\n",
    "        Args:\n",
    "            key (str): The key to be used to store the value.\n",
    "            value (object): The value to be stored.\n",
    "        \"\"\"\n",
    "\n",
    "        self.__runtime_cache[key] = value\n",
    "        with shelve_open(self.__cache_file_name, 'c') as cache:\n",
    "            cache[key] = value\n",
    "\n",
    "    def get(self, key: str, /) -> Optional[Any]:\n",
    "        \"\"\"\n",
    "        Get a value from the cache.\n",
    "\n",
    "        Args:\n",
    "            key (str): The key to be used to retrieve the value.\n",
    "\n",
    "        Returns:\n",
    "            object: The value stored in the cache.\n",
    "        \"\"\"\n",
    "\n",
    "        if key in self.__runtime_cache:\n",
    "            return self.__runtime_cache[key]\n",
    "\n",
    "        with shelve_open(self.__cache_file_name, 'c') as cache:\n",
    "            return cache.get(key)\n",
    "\n",
    "    def remove(self, key: str, /) -> None:\n",
    "        \"\"\"\n",
    "        Remove a value from the cache.\n",
    "\n",
    "        Args:\n",
    "            key (str): The key to be used to remove the value.\n",
    "        \"\"\"\n",
    "\n",
    "        self.__runtime_cache.pop(key, None)\n",
    "        with shelve_open(self.__cache_file_name, 'c') as cache:\n",
    "            del cache[key]\n",
    "\n",
    "    def clear(self) -> None:\n",
    "        \"\"\"\n",
    "        Clear the cache.\n",
    "        \"\"\"\n",
    "\n",
    "        self.__runtime_cache.clear()\n",
    "        with shelve_open(self.__cache_file_name, 'c') as cache:\n",
    "            cache.clear()"
   ]
  },
  {
   "cell_type": "code",
   "execution_count": 44,
   "metadata": {},
   "outputs": [],
   "source": [
    "import skops.io as sio\n",
    "from sklearn.base import BaseEstimator\n",
    "from torch import save, load\n",
    "from torch.nn import Module\n",
    "\n",
    "\n",
    "def preserve_sklearn_model(model: BaseEstimator, /, *, file_path: str) -> None:\n",
    "    \"\"\"\n",
    "    Save a scikit-learn model to a file.\n",
    "\n",
    "    Args:\n",
    "        model (Any): The scikit-learn model to be saved.\n",
    "        file_path (str): The path to the file where the model will be saved.\n",
    "    \"\"\"\n",
    "    full_path = path.join(getcwd(), file_path)\n",
    "\n",
    "    print(\">>> Saving model to:\", full_path)\n",
    "    sio.dump(model, file=full_path)\n",
    "    print(\">>> Model saved successfully!\")\n",
    "\n",
    "\n",
    "def load_sklearn_model_from(file_path: str, /) -> BaseEstimator:\n",
    "    \"\"\"\n",
    "    Load a scikit-learn model from a file.\n",
    "\n",
    "    Args:\n",
    "        file_path (str): The path to the file where the model is saved.\n",
    "\n",
    "    Returns:\n",
    "        Any: The scikit-learn model loaded from the file.\n",
    "    \"\"\"\n",
    "    full_path = path.join(getcwd(), file_path)\n",
    "\n",
    "    print(\">>> Loading model from:\", full_path)\n",
    "    model = sio.load(file=full_path, trusted=True)\n",
    "    print(\">>> Model loaded successfully!\")\n",
    "    return model\n",
    "\n",
    "\n",
    "def preserve_torch_model(model: Module, /, *, file_path: str) -> None:\n",
    "    \"\"\"\n",
    "    Save a PyTorch model to a file.\n",
    "\n",
    "    Args:\n",
    "        model (Module): The PyTorch model to be saved.\n",
    "        file_path (str): The path to the file where the model will be saved.\n",
    "    \"\"\"\n",
    "    full_path = path.join(getcwd(), file_path)\n",
    "\n",
    "    print(\">>> Saving model to:\", full_path)\n",
    "    save(model.state_dict(), full_path)\n",
    "    print(\">>> Model saved successfully!\")\n",
    "\n",
    "\n",
    "def load_torch_model_from(just_inited_model: Module, /, *, file_path: str) -> Module:\n",
    "    \"\"\"\n",
    "    Load a PyTorch model from a file.\n",
    "\n",
    "    Args:\n",
    "        just_inited_model (Module): A PyTorch model that has just been initialized.\n",
    "        file_path (str): The path to the file where the model is saved.\n",
    "    \"\"\"\n",
    "    full_path = path.join(getcwd(), file_path)\n",
    "\n",
    "    print(\">>> Loading model from:\", full_path)\n",
    "    just_inited_model.load_state_dict(load(full_path))\n",
    "    print(\">>> Model loaded successfully!\")\n",
    "\n",
    "    return just_inited_model"
   ]
  },
  {
   "cell_type": "markdown",
   "metadata": {},
   "source": [
    "#### Package imports for Application logic"
   ]
  },
  {
   "cell_type": "code",
   "execution_count": 45,
   "metadata": {},
   "outputs": [],
   "source": [
    "import pandas as pd\n",
    "import numpy as np\n",
    "import csv\n",
    "import regex as re\n",
    "import contractions\n",
    "import torch\n",
    "import matplotlib.pyplot as plt\n",
    "import fasttext\n",
    "\n",
    "from os import cpu_count\n",
    "from typing import Final, final\n",
    "from types import NoneType\n",
    "from itertools import chain\n",
    "from string import punctuation, digits\n",
    "from functools import lru_cache\n",
    "from concurrent.futures import ProcessPoolExecutor, as_completed\n",
    "from enum import Enum\n",
    "from collections import Counter, OrderedDict\n",
    "from collections.abc import Sequence\n",
    "from copy import copy\n",
    "from huggingface_hub import hf_hub_download\n",
    "from emoji import demojize\n",
    "from nltk.downloader import download as nltk_download\n",
    "from nltk.corpus import stopwords, wordnet\n",
    "from nltk.stem import WordNetLemmatizer\n",
    "from nltk.tokenize import TweetTokenizer\n",
    "from sklearn.svm import LinearSVC\n",
    "from sklearn.naive_bayes import BernoulliNB\n",
    "from sklearn.feature_extraction.text import TfidfVectorizer\n",
    "from sklearn.metrics import f1_score, classification_report\n",
    "from scipy.sparse import csr_matrix\n",
    "from torch.utils.data import DataLoader, TensorDataset\n",
    "from transformers import BertTokenizer, BertModel, BertConfig, get_linear_schedule_with_warmup\n",
    "from tqdm import tqdm\n",
    "from sklearn.metrics import confusion_matrix, ConfusionMatrixDisplay\n",
    "from matplotlib import colormaps"
   ]
  },
  {
   "cell_type": "markdown",
   "metadata": {},
   "source": [
    "#### Define global instances"
   ]
  },
  {
   "cell_type": "markdown",
   "metadata": {},
   "source": [
    "<p><b>For TA:</b></p>\n",
    "<style>.rainbow{text-align:center;text-decoration:underline;font-weight:bold}.rainbow_text_animated{background:linear-gradient(to right,#66f,#09f ,#0f0,#f39,#66f);-webkit-background-clip:text;background-clip:text;color:transparent;animation:.3s ease-in-out infinite rainbow_animation;background-size:400% 100%}@keyframes rainbow_animation{0%,100%{background-position:0 0}50%{background-position:100% 0}}</style>\n",
    "<h1 class=\"rainbow rainbow_text_animated\">⬇︎⬇︎⬇︎ Add Test File names HERE!! ⬇︎⬇︎⬇︎</h1>"
   ]
  },
  {
   "cell_type": "code",
   "execution_count": 46,
   "metadata": {},
   "outputs": [],
   "source": [
    "# names of the test set files\n",
    "test_set_names: Final[tuple[str, ...]] = (\n",
    "    'twitter-test1.txt',\n",
    "    'twitter-test2.txt',\n",
    "    'twitter-test3.txt',\n",
    "    # ▲ All test files should be placed in the './data' directory ▲\n",
    "    # ========================================================\n",
    "    # ⬇︎⬇︎⬇︎⬇︎⬇︎⬇︎⬇︎⬇︎⬇︎⬇︎⬇︎⬇︎⬇︎⬇︎⬇︎⬇︎⬇︎⬇︎⬇︎⬇︎⬇︎⬇︎⬇︎⬇︎⬇︎⬇︎⬇︎⬇︎⬇︎⬇︎⬇︎⬇︎⬇︎\n",
    "    # 'twitter-test4.txt',\n",
    "    # 'twitter-test5.txt',\n",
    "    # 'twitter-test6.txt',\n",
    "    # 'twitter-test7.txt',\n",
    "    #   ................\n",
    "    # ⬆︎⬆︎⬆︎⬆︎⬆︎⬆︎⬆︎⬆︎⬆︎⬆︎⬆︎⬆︎⬆︎⬆︎⬆︎⬆︎⬆︎⬆︎⬆︎⬆︎⬆︎⬆︎⬆︎⬆︎⬆︎⬆︎⬆︎⬆︎⬆︎⬆︎⬆︎⬆︎⬆︎\n",
    "    # ========================================================\n",
    ")\n",
    "training_data_file_name: Final[str] = 'twitter-training-data.txt'\n",
    "devlopment_data_file_name: Final[str] = 'twitter-dev-data.txt'\n",
    "\n",
    "dataset_base_path: Final[str] = 'data'\n",
    "glove_data_dir: Final[str] = f\"{dataset_base_path}/glove\"\n",
    "target_glove_file_name: Final[str] = \"glove.6B.100d.txt\"\n",
    "target_bert_model_name: Final[str] = 'bert-base-multilingual-uncased'\n",
    "\n",
    "svm_model_save_path: Final[str] = 'svm_model.model'\n",
    "nb_model_save_path: Final[str] = 'nb_model.model'\n",
    "lstm_model_save_path: Final[str] = 'lstm_model.model'\n",
    "bert_model_save_path: Final[str] = 'bert_model.model'\n",
    "\n",
    "numbers_of_test_sets = len(test_set_names)\n",
    "\n",
    "\n",
    "@final\n",
    "class Sentiment(Enum):\n",
    "    \"\"\"\n",
    "    An enumeration of the three possible sentiment values.\n",
    "    \"\"\"\n",
    "    neutral = 0\n",
    "    negative = 1\n",
    "    positive = 2\n",
    "\n",
    "    @classmethod\n",
    "    @lru_cache\n",
    "    def gts(cls) -> tuple[str, ...]:\n",
    "        return tuple(cls.__members__.keys())\n",
    "\n",
    "\n",
    "global_cache = GlobalCache()\n",
    "\n",
    "TweetID = str\n",
    "ShouldMarkedAsBackground = NoneType"
   ]
  },
  {
   "cell_type": "markdown",
   "metadata": {},
   "source": [
    "#### Define data retrieval functions"
   ]
  },
  {
   "cell_type": "code",
   "execution_count": 47,
   "metadata": {},
   "outputs": [],
   "source": [
    "@lru_cache(typed=True)\n",
    "def get_tweets_from(file_name_: str, /) -> tuple[dict[TweetID, str], tuple[Sentiment, ...]]:\n",
    "    \"\"\"\n",
    "    Read tweets from a file and return dictionaries containing tweet IDs, contents, and sentiments.\n",
    "\n",
    "    Parameters:\n",
    "    - file_name_ (str): The name of the file to read tweets from.\n",
    "\n",
    "    Returns:\n",
    "    - A tuple containing two dictionaries:\n",
    "        - id_gts (dict[TweetID, str]): A dictionary mapping tweet IDs to their contents.\n",
    "        - id_sentiments (dict[TweetID, Sentiment]): A dictionary mapping tweet IDs to their sentiments.\n",
    "    \"\"\"\n",
    "    id_gts: OrderedDict[TweetID, str] = OrderedDict()\n",
    "    sentiments: list[Sentiment] = []\n",
    "    lines = read_file_lines_from(f'{dataset_base_path}/{file_name_}')\n",
    "    for line in lines:\n",
    "        fields = line.split('\\t')\n",
    "        tweet_id = fields[0]\n",
    "        gt = fields[1]\n",
    "        content = ' '.join(fields[2:])\n",
    "        id_gts[tweet_id] = content\n",
    "        sentiments.append(Sentiment[gt])\n",
    "\n",
    "    return id_gts, tuple(sentiments)"
   ]
  },
  {
   "cell_type": "markdown",
   "metadata": {},
   "source": [
    "#### Define GloVe data preparation functions"
   ]
  },
  {
   "cell_type": "code",
   "execution_count": 48,
   "metadata": {},
   "outputs": [],
   "source": [
    "def prepare_glove_data() -> ShouldMarkedAsBackground:\n",
    "    if path_exists(glove_data_dir) and len(ls(glove_data_dir)) == 4:\n",
    "        return\n",
    "\n",
    "    glove_data_pack_name = 'glove.6B.zip'\n",
    "\n",
    "    hf_hub_download(\n",
    "        repo_id='stanfordnlp/glove',\n",
    "        filename=glove_data_pack_name,\n",
    "        local_dir=dataset_base_path,\n",
    "        revision='1db2080b2d94def6e5b0386a523102f9d8849e9d',\n",
    "    )\n",
    "\n",
    "    # perform shell command using python code since the thread management can be done in python.\n",
    "    mkdir(glove_data_dir)\n",
    "    unzip_file_to(\n",
    "        f'{dataset_base_path}/{glove_data_pack_name}',\n",
    "        destination=glove_data_dir\n",
    "    )"
   ]
  },
  {
   "cell_type": "code",
   "execution_count": 49,
   "metadata": {},
   "outputs": [],
   "source": [
    "@lru_cache(typed=True)\n",
    "def parse_glove_data(file_name_: str) -> tuple[dict[str, int], np.ndarray]:\n",
    "    \"\"\"\n",
    "    Parse the GloVe data from a given file.\n",
    "\n",
    "    Args:\n",
    "        file_name_ (str): The name of the file containing the GloVe data.\n",
    "\n",
    "    Returns:\n",
    "        tuple[dict[str, int], np.ndarray]: A tuple containing two elements:\n",
    "            - A dictionary mapping words to their corresponding indices.\n",
    "            - A numpy array containing the word vectors.\n",
    "    \"\"\"\n",
    "    file_frame = pd.read_csv(\n",
    "        f\"{glove_data_dir}/{file_name_}\",\n",
    "        delimiter=' ',\n",
    "        quoting=csv.QUOTE_NONE,\n",
    "        header=None,\n",
    "        encoding='utf-8',\n",
    "        skip_blank_lines=True,\n",
    "    )\n",
    "    \n",
    "    vectors = file_frame.iloc[:, 1:].to_numpy(dtype=np.float64)\n",
    "    \n",
    "    # Add a custom <pad> to the top of the vectors\n",
    "    vectors = np.insert(vectors, 0, np.zeros(vectors.shape[1]), axis=0)\n",
    "\n",
    "    return (\n",
    "        file_frame.reset_index().set_index(0)['index'].to_dict(),\n",
    "        vectors\n",
    "    )"
   ]
  },
  {
   "cell_type": "markdown",
   "metadata": {},
   "source": [
    "#### Define data preprocessing functions"
   ]
  },
  {
   "cell_type": "code",
   "execution_count": 50,
   "metadata": {},
   "outputs": [],
   "source": [
    "def filter_text(src: str, /, *, patterns: Sequence[re.Pattern]) -> str:\n",
    "    \"\"\"\n",
    "    Filters the given source text by removing all occurrences of the specified patterns.\n",
    "\n",
    "    Args:\n",
    "        src (str): The source text to be filtered.\n",
    "        patterns (Sequence[Pattern]): A sequence of regular expression patterns to be removed from the source text.\n",
    "\n",
    "    Returns:\n",
    "        str: The filtered text with all occurrences of the specified patterns removed.\n",
    "    \"\"\"\n",
    "    filtered = copy(src)\n",
    "\n",
    "    for pattern in patterns:\n",
    "        filtered = pattern.sub('', filtered)\n",
    "\n",
    "    return filtered\n",
    "\n",
    "\n",
    "def process_texts(src_dict: dict[Any, str], callable: Callable, *args, **kwargs) -> dict[Any, str]:\n",
    "    \"\"\"\n",
    "    Process a dictionary of texts using a callable function in parallel using a thread pool executor.\n",
    "\n",
    "    Args:\n",
    "        src_dict (dict[Any, str]): A dictionary containing the texts to be processed.\n",
    "        callable (Callable[[str], Any]): A callable function that will be applied to each text.\n",
    "        *args: Variable length argument list to be passed to the callable function.\n",
    "        **kargs: Arbitrary keyword arguments to be passed to the callable function.\n",
    "\n",
    "    Returns:\n",
    "        dict[Any, str]: A dictionary containing the processed texts.\n",
    "    \"\"\"\n",
    "\n",
    "    multi_process = False\n",
    "\n",
    "    if multi_process:\n",
    "        with ProcessPoolExecutor(max_workers=(cpu_count() or 1)) as executor:\n",
    "            future_to_key = {\n",
    "                executor.submit(callable, src_dict[key], *args, **kwargs): key for key in src_dict\n",
    "            }\n",
    "            return {\n",
    "                future_to_key[future]: future.result()\n",
    "                for future in as_completed(future_to_key)\n",
    "            }\n",
    "\n",
    "    return {\n",
    "        key: callable(value, *args, **kwargs)\n",
    "        for key, value in src_dict.items()\n",
    "    }\n",
    "\n",
    "\n",
    "def run_pipelines(\n",
    "    callables: Sequence[Callable[[str], str]],\n",
    "    /,\n",
    "    *,\n",
    "    tweets: dict[TweetID, str]\n",
    ") -> dict[str, str]:\n",
    "    \"\"\"\n",
    "    Run a sequence of callables on a dictionary of texts in parallel using a thread pool executor.\n",
    "\n",
    "    Args:\n",
    "        callables (Sequence[Callable[[dict[str, str]], dict[str, str]]]): A sequence of callable functions to be applied to the dictionary of texts.\n",
    "        tweets (dict[str, str]): A dictionary containing the texts to be processed.\n",
    "\n",
    "    Returns:\n",
    "        dict[str, str]: A dictionary containing the processed texts.\n",
    "    \"\"\"\n",
    "    processed = copy(tweets)\n",
    "\n",
    "    for callable in callables:\n",
    "        processed = process_texts(processed, callable)\n",
    "\n",
    "    return processed"
   ]
  },
  {
   "cell_type": "markdown",
   "metadata": {},
   "source": [
    "#### Define sklearn presentation convenience functions"
   ]
  },
  {
   "cell_type": "code",
   "execution_count": 51,
   "metadata": {},
   "outputs": [],
   "source": [
    "def prepare_presentation_from(\n",
    "    *,\n",
    "    predict_results: dict[TweetID, Sentiment],\n",
    "    test_set_file_name_: str\n",
    ") -> tuple[list[int], list[int], list[int]]:\n",
    "    id_tweets, sentiments = get_tweets_from(test_set_file_name_)\n",
    "\n",
    "    labels = [sentiment.value for sentiment in Sentiment]\n",
    "    y_test = [sentiment.value for sentiment in sentiments]\n",
    "    y_pred = [\n",
    "        predict_results.get(tweet_id, Sentiment.neutral).value\n",
    "        for tweet_id in id_tweets\n",
    "    ]\n",
    "\n",
    "    return y_test, y_pred, labels"
   ]
  },
  {
   "cell_type": "markdown",
   "metadata": {},
   "source": [
    "#### Define confusion matrix function"
   ]
  },
  {
   "cell_type": "code",
   "execution_count": 52,
   "metadata": {},
   "outputs": [],
   "source": [
    "def show_confusion(*, predict_results: dict[TweetID, Sentiment], test_set_file_name_: str) -> None:\n",
    "    \"\"\"\n",
    "    Display the confusion matrix based on the predicted results and the sentiment labels from the test set file.\n",
    "\n",
    "    Args:\n",
    "        predict_results (dict[TweetID, Sentiment]): A dictionary containing the predicted sentiment for each tweet ID.\n",
    "        test_set_file_name_ (str): The file name of the test set containing the sentiment labels for each tweet ID.\n",
    "    \"\"\"\n",
    "    y_test, y_pred, labels = prepare_presentation_from(\n",
    "        predict_results=predict_results,\n",
    "        test_set_file_name_=test_set_file_name_\n",
    "    )\n",
    "\n",
    "    cm = confusion_matrix(y_test, y_pred, labels=labels, normalize='true')\n",
    "    disp = ConfusionMatrixDisplay(\n",
    "        confusion_matrix=cm,\n",
    "        display_labels=Sentiment.gts()\n",
    "    )\n",
    "\n",
    "    disp.plot(cmap=colormaps['Blues'])\n",
    "    plt.show()"
   ]
  },
  {
   "cell_type": "markdown",
   "metadata": {},
   "source": [
    "#### Define evaluation functions"
   ]
  },
  {
   "cell_type": "code",
   "execution_count": 53,
   "metadata": {},
   "outputs": [],
   "source": [
    "def evaluate(predict_results: dict[TweetID, Sentiment], test_set_file_name_: str, classifier_name_: str) -> None:\n",
    "    \"\"\"\n",
    "    Evaluate the performance of a sentiment classifier by comparing the predicted results with the ground truth sentiment labels.\n",
    "\n",
    "    Parameters:\n",
    "        - predict_results: A dictionary mapping TweetIDs to predicted Sentiments.\n",
    "        - test_set_file_name_: The name of the test set file.\n",
    "        - classifier_name_: The name of the classifier.\n",
    "    \"\"\"\n",
    "    y_test, y_pred, labels = prepare_presentation_from(\n",
    "        predict_results=predict_results,\n",
    "        test_set_file_name_=test_set_file_name_\n",
    "    )\n",
    "\n",
    "    sem_eval_macro_f1 = f1_score(\n",
    "        y_test,\n",
    "        y_pred,\n",
    "        labels=labels,\n",
    "        average='macro'\n",
    "    )\n",
    "\n",
    "    print(\n",
    "        f\"{test_set_file_name_} ({classifier_name_}) \"\n",
    "        f\"F1-macro: {sem_eval_macro_f1:.3f}\"\n",
    "    )"
   ]
  },
  {
   "cell_type": "markdown",
   "metadata": {},
   "source": [
    "#### Load training set, dev set and testing set"
   ]
  },
  {
   "cell_type": "code",
   "execution_count": 54,
   "metadata": {},
   "outputs": [],
   "source": [
    "training_data, training_sentiments = get_tweets_from(training_data_file_name)\n",
    "dev_data, dev_sentiments = get_tweets_from(devlopment_data_file_name)\n",
    "test_datas, test_sentiments = zip(*[\n",
    "    get_tweets_from(file_name)\n",
    "    for file_name in test_set_names\n",
    "])"
   ]
  },
  {
   "cell_type": "markdown",
   "metadata": {},
   "source": [
    "#### Download network resources"
   ]
  },
  {
   "cell_type": "code",
   "execution_count": 55,
   "metadata": {},
   "outputs": [],
   "source": [
    "glove_prepare_task = BackgroundTask(prepare_glove_data)\n",
    "\n",
    "\n",
    "def download_nltk_resources(resource_names: Sequence[str]) -> ShouldMarkedAsBackground:\n",
    "    for resource_name in resource_names:\n",
    "        nltk_download(resource_name, quiet=True)\n",
    "\n",
    "\n",
    "nltk_prepare_task = BackgroundTask(\n",
    "    download_nltk_resources,\n",
    "    ('stopwords', 'vader_lexicon', 'punkt', 'wordnet',)\n",
    ")\n",
    "\n",
    "\n",
    "def pre_load_bert_tokenizer() -> ShouldMarkedAsBackground:\n",
    "    BertTokenizer.from_pretrained(target_bert_model_name)\n",
    "    BertModel.from_pretrained(target_bert_model_name)\n",
    "\n",
    "\n",
    "bert_prepare_task = BackgroundTask(pre_load_bert_tokenizer)"
   ]
  },
  {
   "cell_type": "markdown",
   "metadata": {},
   "source": [
    "## Data Preprocessing"
   ]
  },
  {
   "cell_type": "markdown",
   "metadata": {},
   "source": [
    "#### Lowercase the tweets"
   ]
  },
  {
   "cell_type": "code",
   "execution_count": 56,
   "metadata": {},
   "outputs": [],
   "source": [
    "# Lowercase all the words.\n",
    "\n",
    "def lowercase_tweet(tweet: str, /) -> str:\n",
    "    return tweet.lower()"
   ]
  },
  {
   "cell_type": "markdown",
   "metadata": {},
   "source": [
    "#### Regexp filter"
   ]
  },
  {
   "cell_type": "code",
   "execution_count": 57,
   "metadata": {},
   "outputs": [],
   "source": [
    "# Filter the tweets based on the selected regexp patterns.\n",
    "\n",
    "re_flags = re.IGNORECASE | re.MULTILINE\n",
    "\n",
    "pattern_html_tags = re.compile(r'<[^>]+?>', re_flags)\n",
    "pattern_mentions = re.compile(r'@[a-zA-Z0-9_]+', re_flags)\n",
    "pattern_hashtags = re.compile(r'#[a-zA-Z0-9_]+', re_flags)\n",
    "pattern_alphanumeric = re.compile(r'[^a-zA-Z0-9 ]+?', re_flags)\n",
    "pattern_only_one_char = re.compile(r'\\b[a-zA-Z0-9]\\b', re_flags)\n",
    "pattern_fully_numeric = re.compile(r'\\b([0-9]+)\\b', re_flags)\n",
    "\n",
    "pattern_punctuation = re.compile(\n",
    "    \"[\" + re.escape(punctuation+\"“”…‘’\") + \"]+?\",\n",
    "    re_flags\n",
    ")\n",
    "custom_removal_puncuations = punctuation+'“”…‘’'\n",
    "punctuation_translator = str.maketrans(\n",
    "    custom_removal_puncuations,\n",
    "    ' ' * len(custom_removal_puncuations)\n",
    ")\n",
    "\n",
    "pattern_url = re.compile(\n",
    "    r'(?:[a-zA-Z][a-zA-Z0-9+-.]*:)?'\n",
    "    r'(//(?:[a-zA-Z0-9-._~%!$&\\'()*+,;=:]*(?::[a-zA-Z0-9-._~%!$&\\'()*+,;=:]+)?@)?'\n",
    "    r'(?:\\[[0-9a-fA-F:.]+]|(?:[a-zA-Z0-9-]+\\.)*[a-zA-Z]{2,}|[0-9.]+|localhost)'\n",
    "    r'(?::\\d+)?)(/[a-zA-Z0-9-._~%!$&\\'()*+,;=:@]*/?)*'\n",
    "    r'(?:\\?[a-zA-Z0-9-._~%!$&\\'()*+,;=:@/]*)?'\n",
    "    r'(?:#[a-zA-Z0-9-._~%!$&\\'()*+,;=:@/]*)?',\n",
    "    re_flags\n",
    ")\n",
    "\n",
    "# all_emojis = tuple(EMOJI_DATA.keys())\n",
    "# pattern_emojis = re.compile('|'.join(map(re.escape, all_emojis)) + '?')\n",
    "\n",
    "pattern_ampm = re.compile(r'([0-9]+(am|pm))')\n",
    "pattern_ordinals = re.compile(r'([0-9]+)(?:st|nd|rd|th)')\n",
    "\n",
    "selected_filter_patterns: tuple[re.Pattern[str], ...] = (\n",
    "    pattern_url,\n",
    "    pattern_html_tags,\n",
    "    pattern_mentions,\n",
    "    pattern_hashtags,\n",
    "    pattern_fully_numeric,\n",
    "    pattern_only_one_char,\n",
    "    pattern_ampm,\n",
    "    pattern_ordinals,\n",
    ")\n",
    "\n",
    "\n",
    "def regexp_filter(tweet: str, /) -> str:\n",
    "    return filter_text(tweet, patterns=selected_filter_patterns)\n",
    "\n",
    "\n",
    "def punctuation_filter(tweet: str, /) -> str:\n",
    "    return tweet.translate(punctuation_translator)"
   ]
  },
  {
   "cell_type": "markdown",
   "metadata": {},
   "source": [
    "#### Remove emojis"
   ]
  },
  {
   "cell_type": "code",
   "execution_count": 58,
   "metadata": {},
   "outputs": [],
   "source": [
    "def remove_emojis(tweet: str, /) -> str:\n",
    "    return demojize(tweet, delimiters=('', ''))"
   ]
  },
  {
   "cell_type": "markdown",
   "metadata": {},
   "source": [
    "#### Remove numbers"
   ]
  },
  {
   "cell_type": "code",
   "execution_count": 59,
   "metadata": {},
   "outputs": [],
   "source": [
    "remove_digits = str.maketrans('', '', digits)\n",
    "\n",
    "\n",
    "def remove_numbers(tweet: str, /) -> str:\n",
    "    return tweet.translate(remove_digits)"
   ]
  },
  {
   "cell_type": "markdown",
   "metadata": {},
   "source": [
    "#### Remove non-English words"
   ]
  },
  {
   "cell_type": "code",
   "execution_count": 60,
   "metadata": {},
   "outputs": [],
   "source": [
    "from langdetect import detect\n",
    "\n",
    "def remove_non_en(tweet: str, /) -> str:\n",
    "    try:\n",
    "        if detect(tweet) == 'en':\n",
    "            return tweet\n",
    "        else:\n",
    "            return ''\n",
    "    except:\n",
    "        return ''"
   ]
  },
  {
   "cell_type": "markdown",
   "metadata": {},
   "source": [
    "#### Tokenization & Lemmatization"
   ]
  },
  {
   "cell_type": "code",
   "execution_count": 61,
   "metadata": {},
   "outputs": [],
   "source": [
    "nltk_prepare_task.wait()\n",
    "\n",
    "lemmatizer = WordNetLemmatizer()\n",
    "tokenizer = TweetTokenizer(\n",
    "    reduce_len=True,\n",
    "    strip_handles=True,\n",
    "    preserve_case=False\n",
    ")\n",
    "\n",
    "custom_preserved_words: frozenset[str] = frozenset((\n",
    "    'not', \"wouldn't\", 'nor',\n",
    "    'but', \"weren't\", 'couldn',\n",
    "    'didn', 'doesn', 'hadn',\n",
    "    'hasn', 'haven', 'isn', 'mightn',\n",
    "    \"aren't\", 'mustn', 'needn',\n",
    "    \"shan't\", 'shouldn', 'wasn',\n",
    "    \"mustn't\", \"didn't\", \"doesn't\",\n",
    "    \"mightn't\", \"isn't\", \"shouldn't\",\n",
    "    \"mustn't\", \"haven\", \"isn\",\n",
    "    \"didn't\", \"aren't\", \"wouldn't\",\n",
    "    \"shouldn't\", \"couldn't\", \"hadn't\",\n",
    "    \"don't\", \"won't\", \"can't\",\n",
    "    \"hasn't\", \"wasn't\", 'the'\n",
    "))\n",
    "custom_stop_words: frozenset[str] = frozenset((\n",
    "    \"call\", 'upon', 'still', 'nevertheless', \n",
    "    'down', 'every', 'forty', '‘re', 'always', \n",
    "    'whole', 'side', 'now', 'however', \n",
    "    'an', 'show', 'least', 'give', 'below', \n",
    "    'did', 'sometimes', 'which', \"'s\", \n",
    "    'nowhere', 'per', 'hereupon', 'yours', \n",
    "    'she', 'moreover', 'eight', 'somewhere', \n",
    "    'within', 'whereby', 'few', 'has', 'so', \n",
    "    'have', 'for', 'noone', 'top', 'were', \n",
    "    'those', 'thence', 'eleven', 'after', \n",
    "    '’ll', 'others', 'ourselves', \n",
    "    'themselves', 'though', 'that', 'just', '’s', \n",
    "    'before', 'had', 'toward', 'another', 'should', \n",
    "    'herself', 'and', 'these', 'such', 'elsewhere',\n",
    "    'further', 'next', 'indeed', 'bottom', 'anyone',\n",
    "    'his', 'each', 'then', 'both', 'became', 'third',\n",
    "    'whom', '‘ve', 'mine', 'take', 'many', 'anywhere',\n",
    "    'to', 'well', 'thereafter', 'besides', 'almost',\n",
    "    'front', 'fifteen', 'towards', 'be', 'herein',\n",
    "    'two', 'using', 'whatever', 'please', 'perhaps',\n",
    "    'full', 'ca', 'we', 'latterly', 'here', 'therefore',\n",
    "    'us', 'how', 'was', 'made', 'or', 'may', '’re',\n",
    "    'namely', \"'ve\", 'anyway', 'amongst', 'used', 'ever',\n",
    "    'of', 'there', 'than', 'why', 'really', 'whither', 'in',\n",
    "    'only', 'wherein', 'last', 'under', 'own', 'therein',\n",
    "    'go', 'seems', '‘m', 'wherever', 'either', 'someone',\n",
    "    'up', 'doing', 'on', 'rather', 'ours', 'again', 'same',\n",
    "    'over', '‘s', 'latter', 'during', 'done', \"'re\", \n",
    "    'put', \"'m\", 'much', 'among', 'seemed', 'into', \n",
    "    'once', 'my', 'otherwise', 'part', 'everywhere',\n",
    "    'myself', 'must', 'will', 'am', 'although',\n",
    "    'as', 'beyond', 'are', 'too', 'becomes', 'does', \n",
    "    'a', 'everyone', 'some', 'regarding', '‘ll', \n",
    "    'throughout', 'yourselves', 'him', \"'d\", 'it',\n",
    "    'himself', 'whether', 'move', '’m', 'hereafter',\n",
    "    're', 'while', 'whoever', 'your', 'first', 'amount',\n",
    "    'twelve', 'serious', 'other', 'any', 'off', 'seeming',\n",
    "    'four', 'itself', 'nothing', 'beforehand', 'make', 'out',\n",
    "    'very', 'already', 'various', 'until', 'hers', 'they', \n",
    "    'them', 'where', 'would', 'since', 'everything', 'at', \n",
    "    'together', 'yet', 'more', 'six', 'back', 'with', 'thereupon',\n",
    "    'becoming', 'around', 'due', 'keep', 'somehow', 'across',\n",
    "    'all', 'when', 'i', 'empty', 'nine', 'five', 'get', 'see',\n",
    "    'been', 'name', 'between', 'hence', 'ten', 'several', 'from',\n",
    "    'whereupon', 'through', 'hereby', \"'ll\", 'alone', 'something',\n",
    "    'formerly','above', 'onto', 'except', 'enough', 'become', \n",
    "    'behind', '’d', 'its', 'most', 'n’t', 'might', 'whereas',\n",
    "    'anything', 'if', 'her', 'via', 'fifty', 'is', 'thereby', \n",
    "    'twenty', 'often', 'whereafter', 'their', 'also', 'anyhow', \n",
    "    'our', 'could', 'because', 'who', 'beside', 'by', 'whence', \n",
    "    'being', 'meanwhile', 'this', 'afterwards', 'whenever', 'mostly',\n",
    "    'what', 'one', 'nobody', 'seem', 'do', '‘d', 'say',\n",
    "    'thus', 'unless', 'along', 'yourself', 'former', 'thru',\n",
    "    'he', 'hundred', 'three', 'sixty', 'me', 'sometime', 'amp',\n",
    "    'whose', 'you', 'quite', '’ve', 'about', 'even',\n",
    "    'monday', 'tuesday', 'wednesday', 'thursday', 'friday',\n",
    "    'saturday', 'sunday', 'january', 'february', 'march', 'april',\n",
    "    'may', 'june', 'july', 'august', 'september', 'october',\n",
    "    'november', 'december'\n",
    "))\n",
    "stop_words = (frozenset(stopwords.words('english')) | custom_stop_words) - custom_preserved_words\n",
    "\n",
    "\n",
    "def nltk_tokenize_anti_stopwords_lemmatize(tweet: str, /) -> str:\n",
    "    wordnet.ensure_loaded()\n",
    "    tokens = tokenizer.tokenize(tweet)\n",
    "    return ' '.join(\n",
    "        lemmatizer.lemmatize(token)\n",
    "        for token in tokens\n",
    "        if token not in stop_words\n",
    "    )"
   ]
  },
  {
   "cell_type": "markdown",
   "metadata": {},
   "source": [
    "#### Fix contractions"
   ]
  },
  {
   "cell_type": "code",
   "execution_count": 62,
   "metadata": {},
   "outputs": [],
   "source": [
    "def fix_contractions(tweet: str, /) -> str:\n",
    "    return f'{contractions.fix(tweet)}'"
   ]
  },
  {
   "cell_type": "markdown",
   "metadata": {},
   "source": [
    "#### Run all preprocessing steps"
   ]
  },
  {
   "cell_type": "code",
   "execution_count": 63,
   "metadata": {},
   "outputs": [],
   "source": [
    "all_pipelines = (\n",
    "    lowercase_tweet,\n",
    "    fix_contractions,\n",
    "    regexp_filter,\n",
    "    remove_emojis,\n",
    "    remove_numbers,\n",
    "    punctuation_filter,\n",
    "    nltk_tokenize_anti_stopwords_lemmatize,\n",
    ")\n",
    "\n",
    "cleaned_training_tweets = run_pipelines(\n",
    "    all_pipelines,\n",
    "    tweets=training_data\n",
    ")\n",
    "\n",
    "cleaned_dev_tweets = run_pipelines(\n",
    "    all_pipelines,\n",
    "    tweets=dev_data\n",
    ")\n",
    "\n",
    "cleaned_test_tweets = [\n",
    "    run_pipelines(\n",
    "        all_pipelines,\n",
    "        tweets=test_data\n",
    "    )\n",
    "    for test_data in test_datas\n",
    "]"
   ]
  },
  {
   "cell_type": "markdown",
   "metadata": {},
   "source": [
    "#### Show the top 10 most frequent words in the training set"
   ]
  },
  {
   "cell_type": "code",
   "execution_count": 64,
   "metadata": {},
   "outputs": [
    {
     "name": "stdout",
     "output_type": "stream",
     "text": [
      "        word   freq\n",
      "0        the  34055\n",
      "1        not   6834\n",
      "2   tomorrow   5911\n",
      "3        but   3702\n",
      "4        day   3650\n",
      "5      going   3282\n",
      "6      night   2558\n",
      "7       like   2405\n",
      "8       time   2367\n",
      "9       want   1848\n",
      "10       new   1699\n",
      "11      game   1666\n",
      "12      know   1481\n",
      "13     today   1443\n",
      "14      good   1364\n",
      "15     think   1252\n",
      "16   tonight   1240\n",
      "17      come   1230\n",
      "18    cannot   1157\n",
      "19      love   1132\n"
     ]
    }
   ],
   "source": [
    "all_words = ' '.join(cleaned_training_tweets.values()).split()\n",
    "word_freq = Counter(all_words)\n",
    "\n",
    "freq_frame = pd.DataFrame(\n",
    "    word_freq.most_common(20),\n",
    "    columns=['word', 'freq']\n",
    ")\n",
    "\n",
    "print(freq_frame)"
   ]
  },
  {
   "cell_type": "markdown",
   "metadata": {},
   "source": [
    "#### Save preprocessed data to file"
   ]
  },
  {
   "cell_type": "code",
   "execution_count": 65,
   "metadata": {},
   "outputs": [],
   "source": [
    "def write_tweets_to_file(\n",
    "    file_name_: str,\n",
    "    /,\n",
    "    *,\n",
    "    tweets: dict[TweetID, str],\n",
    "    sentiments: Sequence[Sentiment]\n",
    ") -> ShouldMarkedAsBackground:\n",
    "    write_file_lines_to(\n",
    "        file_name_,\n",
    "        lines=[\n",
    "            f\"__label__{sentiment.name} {tweet}\"\n",
    "            for (_, tweet), sentiment in zip(tweets.items(), sentiments)\n",
    "        ]\n",
    "    )\n",
    "\n",
    "\n",
    "preprocessed_training_data_file_name = f\"{\n",
    "    without_ext(training_data_file_name)\n",
    "}.cleaned\"\n",
    "\n",
    "# Currently we only write training data to file,\n",
    "# because only FastText model is trained using a file.\n",
    "write_preprocessed_training_data_task = BackgroundTask(\n",
    "    write_tweets_to_file,\n",
    "    preprocessed_training_data_file_name,\n",
    "    tweets=cleaned_training_tweets,\n",
    "    sentiments=training_sentiments\n",
    ")"
   ]
  },
  {
   "cell_type": "markdown",
   "metadata": {},
   "source": [
    "## Vectorizations"
   ]
  },
  {
   "cell_type": "markdown",
   "metadata": {},
   "source": [
    "#### TF-IDF Vectorization"
   ]
  },
  {
   "cell_type": "code",
   "execution_count": 66,
   "metadata": {},
   "outputs": [],
   "source": [
    "tfidf_vectorizer = TfidfVectorizer(\n",
    "    analyzer='word',\n",
    "    stop_words='english',\n",
    "    encoding='utf-8',\n",
    "    lowercase=False,\n",
    "    min_df=3,\n",
    "    max_df=0.8,\n",
    "    max_features=4940,\n",
    "    ngram_range=(1, 7)\n",
    ")\n",
    "\n",
    "tfidf_training_matrix = np.asarray(\n",
    "    csr_matrix(\n",
    "        tfidf_vectorizer.fit_transform(cleaned_training_tweets.values())\n",
    "    ).todense()\n",
    ")\n",
    "tfidf_dev_matrix = np.asarray(\n",
    "    csr_matrix(\n",
    "        tfidf_vectorizer.transform(cleaned_dev_tweets.values())\n",
    "    ).todense()\n",
    ")\n",
    "tfidf_test_matrices = [\n",
    "    np.asarray(\n",
    "        csr_matrix(\n",
    "            tfidf_vectorizer.transform(test_data.values())\n",
    "        ).todense()\n",
    "    )\n",
    "    for test_data in cleaned_test_tweets\n",
    "]"
   ]
  },
  {
   "cell_type": "markdown",
   "metadata": {},
   "source": [
    "#### FastText Embedding"
   ]
  },
  {
   "cell_type": "code",
   "execution_count": 67,
   "metadata": {},
   "outputs": [
    {
     "name": "stderr",
     "output_type": "stream",
     "text": [
      "Read 0M words\n",
      "Number of words:  11372\n",
      "Number of labels: 3\n",
      "Progress: 100.0% words/sec/thread: 1749349 lr:  0.000000 avg.loss:  0.529888 ETA:   0h 0m 0s\n"
     ]
    }
   ],
   "source": [
    "write_preprocessed_training_data_task.wait()\n",
    "\n",
    "fast_text_model = fasttext.train_supervised(\n",
    "    input=preprocessed_training_data_file_name,\n",
    "    minCount=3,\n",
    "    ws=15,\n",
    "    wordNgrams=3\n",
    ")\n",
    "\n",
    "fast_text_training_matrix = np.array(\n",
    "    csr_matrix(\n",
    "        [\n",
    "            fast_text_model.get_sentence_vector(tweet)\n",
    "            for tweet in cleaned_training_tweets.values()\n",
    "        ]\n",
    "    ).todense()\n",
    ")\n",
    "\n",
    "fast_text_dev_matrix = np.array(\n",
    "    csr_matrix(\n",
    "        [\n",
    "            fast_text_model.get_sentence_vector(tweet)\n",
    "            for tweet in cleaned_dev_tweets.values()\n",
    "        ]\n",
    "    ).todense()\n",
    ")\n",
    "\n",
    "fast_text_test_matrices = [\n",
    "    np.array(\n",
    "        csr_matrix(\n",
    "            [\n",
    "                fast_text_model.get_sentence_vector(tweet)\n",
    "                for tweet in test_data.values()\n",
    "            ]\n",
    "        ).todense()\n",
    "    )\n",
    "    for test_data in cleaned_test_tweets\n",
    "]"
   ]
  },
  {
   "cell_type": "markdown",
   "metadata": {},
   "source": [
    "## Build sentiment classifiers"
   ]
  },
  {
   "cell_type": "markdown",
   "metadata": {},
   "source": [
    "##### SVM"
   ]
  },
  {
   "cell_type": "code",
   "execution_count": 68,
   "metadata": {},
   "outputs": [
    {
     "name": "stdout",
     "output_type": "stream",
     "text": [
      "              precision    recall  f1-score   support\n",
      "\n",
      "     neutral    0.61574   0.71809   0.66298      1504\n",
      "    negative    0.66230   0.45422   0.53887       557\n",
      "    positive    0.69892   0.66327   0.68063      1470\n",
      "\n",
      "    accuracy                        0.65364      3531\n",
      "   macro avg    0.65899   0.61186   0.62749      3531\n",
      "weighted avg    0.65771   0.65364   0.65075      3531\n",
      "\n",
      "              precision    recall  f1-score   support\n",
      "\n",
      "     neutral    0.58270   0.68460   0.62955       669\n",
      "    negative    0.61438   0.46535   0.52958       202\n",
      "    positive    0.75711   0.70468   0.72996       982\n",
      "\n",
      "    accuracy                        0.67134      1853\n",
      "   macro avg    0.65140   0.61821   0.62970      1853\n",
      "weighted avg    0.67858   0.67134   0.67186      1853\n",
      "\n",
      "              precision    recall  f1-score   support\n",
      "\n",
      "     neutral    0.57958   0.73347   0.64751       983\n",
      "    negative    0.55219   0.45179   0.49697       363\n",
      "    positive    0.72315   0.58664   0.64778      1033\n",
      "\n",
      "    accuracy                        0.62673      2379\n",
      "   macro avg    0.61831   0.59063   0.59742      2379\n",
      "weighted avg    0.63774   0.62673   0.62466      2379\n",
      "\n"
     ]
    }
   ],
   "source": [
    "svm_model = LinearSVC(verbose=False, dual=False)\n",
    "svm_model.fit(\n",
    "    fast_text_training_matrix,\n",
    "    [sentiments.value for sentiments in training_sentiments]\n",
    ")\n",
    "\n",
    "preserve_sklearn_model(\n",
    "    svm_model,\n",
    "    file_path=svm_model_save_path\n",
    ")\n",
    "\n",
    "for x in range(numbers_of_test_sets):\n",
    "    svm_predictions = svm_model.predict(fast_text_test_matrices[x])\n",
    "    svm_report = classification_report(\n",
    "        [sentiments.value for sentiments in test_sentiments[x]],\n",
    "        svm_predictions,\n",
    "        target_names=Sentiment.gts(),\n",
    "        digits=5\n",
    "    )\n",
    "\n",
    "    print(svm_report)"
   ]
  },
  {
   "cell_type": "markdown",
   "metadata": {},
   "source": [
    "#### Navie Bayes"
   ]
  },
  {
   "cell_type": "code",
   "execution_count": 69,
   "metadata": {},
   "outputs": [
    {
     "name": "stdout",
     "output_type": "stream",
     "text": [
      "              precision    recall  f1-score   support\n",
      "\n",
      "     neutral    0.57676   0.71941   0.64024      1504\n",
      "    negative    0.54662   0.30521   0.39171       557\n",
      "    positive    0.67485   0.61701   0.64463      1470\n",
      "\n",
      "    accuracy                        0.61144      3531\n",
      "   macro avg    0.59941   0.54721   0.55886      3531\n",
      "weighted avg    0.61284   0.61144   0.60286      3531\n",
      "\n",
      "              precision    recall  f1-score   support\n",
      "\n",
      "     neutral    0.53286   0.67862   0.59698       669\n",
      "    negative    0.57647   0.24257   0.34146       202\n",
      "    positive    0.72817   0.67923   0.70285       982\n",
      "\n",
      "    accuracy                        0.63141      1853\n",
      "   macro avg    0.61250   0.53348   0.54709      1853\n",
      "weighted avg    0.64112   0.63141   0.62523      1853\n",
      "\n",
      "              precision    recall  f1-score   support\n",
      "\n",
      "     neutral    0.54476   0.73042   0.62408       983\n",
      "    negative    0.48485   0.30854   0.37710       363\n",
      "    positive    0.68675   0.55179   0.61192      1033\n",
      "\n",
      "    accuracy                        0.58848      2379\n",
      "   macro avg    0.57212   0.53025   0.53770      2379\n",
      "weighted avg    0.59727   0.58848   0.58111      2379\n",
      "\n"
     ]
    }
   ],
   "source": [
    "nb_model = BernoulliNB(\n",
    "    alpha=0.1,\n",
    "    fit_prior=True,\n",
    ")\n",
    "nb_model.fit(\n",
    "    tfidf_training_matrix,\n",
    "    [sentiments.value for sentiments in training_sentiments]\n",
    ")\n",
    "\n",
    "preserve_sklearn_model(\n",
    "    nb_model,\n",
    "    file_path=nb_model_save_path\n",
    ")\n",
    "\n",
    "for x in range(numbers_of_test_sets):\n",
    "    nb_predictions = nb_model.predict(tfidf_test_matrices[x])\n",
    "    nb_report = classification_report(\n",
    "        [sentiments.value for sentiments in test_sentiments[x]],\n",
    "        nb_predictions,\n",
    "        target_names=Sentiment.gts(),\n",
    "        digits=5\n",
    "    )\n",
    "\n",
    "    print(nb_report)"
   ]
  },
  {
   "cell_type": "markdown",
   "metadata": {},
   "source": [
    "#### LSTM Classifier"
   ]
  },
  {
   "cell_type": "code",
   "execution_count": 70,
   "metadata": {},
   "outputs": [
    {
     "name": "stdout",
     "output_type": "stream",
     "text": [
      "Using cuda device\n"
     ]
    }
   ],
   "source": [
    "device = (\n",
    "    \"cuda\"\n",
    "    if torch.cuda.is_available()\n",
    "    else \"mps\"\n",
    "    if torch.backends.mps.is_available()\n",
    "    else \"cpu\"\n",
    ")\n",
    "print(f\"Using {device} device\")"
   ]
  },
  {
   "cell_type": "markdown",
   "metadata": {},
   "source": [
    "##### GloVe Embedding Vectorization"
   ]
  },
  {
   "cell_type": "code",
   "execution_count": 71,
   "metadata": {},
   "outputs": [],
   "source": [
    "@final\n",
    "class GloVeVectorizer:\n",
    "    def __init__(self, word_indexes: dict[str, int], word_vectors: np.ndarray):\n",
    "        self.word_indexes = word_indexes\n",
    "        self.word_vectors = word_vectors\n",
    "\n",
    "    def __vectorize_impl(self, tokens: Sequence[str], /) -> np.ndarray:\n",
    "        vecs = np.zeros(\n",
    "            (len(tokens), self.word_vectors.shape[1]),\n",
    "            dtype=np.float64\n",
    "        )\n",
    "        for i, token in enumerate(tokens):\n",
    "            if token in self.word_indexes:\n",
    "                vecs[i] = self.word_vectors[self.word_indexes[token]]\n",
    "        return vecs\n",
    "\n",
    "    def __ordinalization_impl(self, tokens: Sequence[str], /) -> np.ndarray:\n",
    "        return np.asarray([\n",
    "            self.word_indexes.get(token, 400001) # 400001 is the index of the <UNK> token.\n",
    "            for token in tokens\n",
    "        ])\n",
    "\n",
    "    @staticmethod\n",
    "    def __largest_element_count(element_sets: Sequence[Sequence | np.ndarray], /) -> int:\n",
    "        return max(\n",
    "            len(element)\n",
    "            for element in element_sets\n",
    "        )\n",
    "\n",
    "    @staticmethod\n",
    "    def __expand_2d_to_size(\n",
    "        _2d_targets: Sequence[np.ndarray],\n",
    "        /,\n",
    "        *,\n",
    "        size: int\n",
    "    ) -> list[np.ndarray]:\n",
    "        assert size > 0\n",
    "        assert len(_2d_targets) > 0\n",
    "        return [\n",
    "            np.vstack((\n",
    "                _2d_target,\n",
    "                np.zeros(\n",
    "                    (size - _2d_target.shape[0], _2d_target.shape[1]),\n",
    "                    dtype=np.float64\n",
    "                )\n",
    "            ))\n",
    "            for _2d_target in _2d_targets\n",
    "        ]\n",
    "\n",
    "    @staticmethod\n",
    "    def __expand_1d_to_size(\n",
    "        _1d_targets: Sequence[np.ndarray],\n",
    "        /,\n",
    "        *,\n",
    "        size: int\n",
    "    ) -> list[np.ndarray]:\n",
    "        assert size > 0\n",
    "        assert len(_1d_targets) > 0\n",
    "        return [\n",
    "            np.pad(\n",
    "                _1d_target,\n",
    "                (0, size - _1d_target.shape[0]),\n",
    "                mode='constant',\n",
    "                constant_values=0 # 0 is the index of the <PAD> token. (self added)\n",
    "            )\n",
    "            for _1d_target in _1d_targets\n",
    "        ]\n",
    "\n",
    "    def vectorize(self, tweets: dict[TweetID, str], /) -> np.ndarray:\n",
    "        tokens = [\n",
    "            self.__vectorize_impl(tweet.split())\n",
    "            for tweet in tweets.values()\n",
    "        ]\n",
    "        return np.asarray(\n",
    "            self.__expand_2d_to_size(\n",
    "                tokens,\n",
    "                size=self.__largest_element_count(tokens)\n",
    "            )\n",
    "        )\n",
    "\n",
    "    def ordinalization(self, tweets: dict[TweetID, str], /) -> np.ndarray:\n",
    "        indexes = [\n",
    "            self.__ordinalization_impl(tweet.split())\n",
    "            for tweet in tweets.values()\n",
    "        ]\n",
    "        return np.asarray(\n",
    "            self.__expand_1d_to_size(\n",
    "                indexes,\n",
    "                size=self.__largest_element_count(indexes)\n",
    "            ),\n",
    "            dtype=np.int32\n",
    "        )"
   ]
  },
  {
   "cell_type": "markdown",
   "metadata": {},
   "source": [
    "##### Define LSTM model"
   ]
  },
  {
   "cell_type": "code",
   "execution_count": 72,
   "metadata": {},
   "outputs": [],
   "source": [
    "class AttentionMechanism(torch.nn.Module):\n",
    "    \"\"\"\n",
    "    A module that implements an attention mechanism.\n",
    "\n",
    "    Args:\n",
    "        hidden_size (int): The size of the hidden state.\n",
    "\n",
    "    Attributes:\n",
    "        hidden_size (int): The size of the hidden state.\n",
    "        attention_weights (torch.Tensor): The attention weights.\n",
    "\n",
    "    Methods:\n",
    "        forward(lstm_output: torch.Tensor) -> torch.Tensor: Performs the forward pass of the attention mechanism.\n",
    "\n",
    "    \"\"\"\n",
    "\n",
    "    def __init__(self, hidden_size: int) -> None:\n",
    "        super(AttentionMechanism, self).__init__()\n",
    "        self.hidden_size = hidden_size\n",
    "        self.attention_weights = torch.nn.Parameter(\n",
    "            torch.Tensor(hidden_size, 1)\n",
    "        )\n",
    "        torch.nn.init.xavier_uniform_(self.attention_weights.data, gain=1.414)\n",
    "\n",
    "    def forward(self, lstm_output: torch.Tensor) -> torch.Tensor:\n",
    "        attention_scores = torch.matmul(lstm_output, self.attention_weights)\n",
    "        attention_scores = attention_scores.squeeze(2)\n",
    "        attention_weights = torch.softmax(attention_scores, dim=1)\n",
    "        weighted_output = lstm_output * attention_weights.unsqueeze(2)\n",
    "        return weighted_output.sum(1)\n",
    "\n",
    "\n",
    "class SentimentLSTMModel(torch.nn.Module):\n",
    "    \"\"\"\n",
    "    A sentiment analysis LSTM model.\n",
    "\n",
    "    This model takes in a sequence of input tokens and predicts the sentiment of the input text.\n",
    "    It consists of an embedding layer, a bidirectional LSTM layer, an attention mechanism, and a fully connected layer.\n",
    "\n",
    "    Args:\n",
    "        vocab_size (int): The size of the vocabulary.\n",
    "        embedding_dim (int): The dimension of the word embeddings.\n",
    "        hidden_size (int): The size of the hidden state of the LSTM.\n",
    "        output_size (int): The number of output classes.\n",
    "        pretrained_embeddings (torch.Tensor): Pretrained word embeddings.\n",
    "\n",
    "    Attributes:\n",
    "        hidden_size (int): The size of the hidden state of the LSTM.\n",
    "        embedding (torch.nn.Embedding): The embedding layer.\n",
    "        lstm (torch.nn.LSTM): The bidirectional LSTM layer.\n",
    "        attention (AttentionMechanism): The attention mechanism.\n",
    "        fc (torch.nn.Linear): The fully connected layer.\n",
    "        dropout (torch.nn.Dropout): The dropout layer.\n",
    "    \"\"\"\n",
    "\n",
    "    def __init__(\n",
    "        self,\n",
    "        embedding_dim: int,\n",
    "        hidden_size: int,\n",
    "        output_size: int,\n",
    "        pretrained_embeddings: torch.Tensor\n",
    "    ):\n",
    "        super(SentimentLSTMModel, self).__init__()\n",
    "\n",
    "        self.hidden_size = hidden_size\n",
    "\n",
    "        self.embedding = torch.nn.Embedding.from_pretrained(\n",
    "            embeddings=pretrained_embeddings,\n",
    "            padding_idx=0,\n",
    "            freeze=False\n",
    "        )\n",
    "        self.embedding.weight.requires_grad = False\n",
    "\n",
    "        self.lstm = torch.nn.LSTM(\n",
    "            input_size=embedding_dim,\n",
    "            hidden_size=hidden_size,\n",
    "            num_layers=2,\n",
    "            dropout=0.5,\n",
    "            batch_first=True,\n",
    "            bidirectional=True\n",
    "        )\n",
    "\n",
    "        self.attention = AttentionMechanism(hidden_size * 2)\n",
    "\n",
    "        self.dropout = torch.nn.Dropout(0.5)\n",
    "\n",
    "        self.fc = torch.nn.Linear(hidden_size * 2, output_size)\n",
    "        \n",
    "        self.batch_norm = torch.nn.BatchNorm1d(output_size)\n",
    "\n",
    "    def forward(self, x: torch.Tensor, /) -> torch.Tensor:\n",
    "        embedded = self.dropout(self.embedding(x))\n",
    "        lstm_out, _ = self.lstm(embedded)\n",
    "        attn_out = self.attention(lstm_out)\n",
    "        out = self.fc(self.dropout(attn_out))\n",
    "        return self.batch_norm(out)"
   ]
  },
  {
   "cell_type": "markdown",
   "metadata": {},
   "source": [
    "##### Define LSTM model training and evaluation functions"
   ]
  },
  {
   "cell_type": "code",
   "execution_count": 73,
   "metadata": {},
   "outputs": [],
   "source": [
    "def train_torch_model(\n",
    "    model: torch.nn.Module,\n",
    "    train_loader: DataLoader,\n",
    "    loss_fn: torch.nn.Module,\n",
    "    optimizer: torch.optim.Optimizer,\n",
    ") -> float:\n",
    "    \"\"\"Train the model for one epoch.\n",
    "\n",
    "    Args:\n",
    "        model: The neural network model.\n",
    "        train_loader: DataLoader for the training dataset.\n",
    "        loss_fn: The loss function.\n",
    "        optimizer: The optimizer.\n",
    "        device: The device to run the training on.\n",
    "\n",
    "    Returns:\n",
    "        The average loss for this training epoch.\n",
    "    \"\"\"\n",
    "    model.train()\n",
    "    total_loss = 0.0\n",
    "\n",
    "    for batch in tqdm(train_loader, desc=\"LSTM Training\"):\n",
    "        tweets, sentiments = batch\n",
    "        optimizer.zero_grad(set_to_none=True)\n",
    "        with torch.set_grad_enabled(True), torch.cuda.amp.autocast():\n",
    "            outputs = model(tweets)\n",
    "            loss = loss_fn(outputs, sentiments)\n",
    "        loss.backward()\n",
    "        optimizer.step()\n",
    "        total_loss += loss.item()\n",
    "\n",
    "    average_loss = total_loss / len(train_loader)\n",
    "    return average_loss\n",
    "\n",
    "\n",
    "def evaluate_torch_model(\n",
    "    model: torch.nn.Module,\n",
    "    val_loader: DataLoader,\n",
    "    loss_fn: torch.nn.Module,\n",
    ") -> tuple[float, float]:\n",
    "    \"\"\"Evaluate the model performance on the validation set.\n",
    "\n",
    "    Args:\n",
    "        model: The neural network model.\n",
    "        val_loader: DataLoader for the validation dataset.\n",
    "        device: The device to run the evaluation on.\n",
    "\n",
    "    Returns:\n",
    "        A tuple of accuracy and the average loss on the validation set.\n",
    "    \"\"\"\n",
    "    model.eval()\n",
    "    correct = 0\n",
    "    total = 0\n",
    "    total_loss = 0.0\n",
    "\n",
    "    for batch in tqdm(val_loader, desc=\"LSTM Evaluating\"):\n",
    "        tweets, sentiments = batch\n",
    "        with torch.no_grad(), torch.cuda.amp.autocast():\n",
    "            outputs = model(tweets)\n",
    "            loss = loss_fn(outputs, sentiments)\n",
    "        total_loss += loss.item()\n",
    "        _, predicted = torch.max(outputs.data, 1)\n",
    "        total += sentiments.size(0)\n",
    "        correct += (predicted == sentiments).sum().item()\n",
    "\n",
    "    accuracy = correct / total\n",
    "    average_loss = total_loss / len(val_loader)\n",
    "    return accuracy, average_loss"
   ]
  },
  {
   "cell_type": "markdown",
   "metadata": {},
   "source": [
    "##### Get GloVe Embedding vector"
   ]
  },
  {
   "cell_type": "code",
   "execution_count": 74,
   "metadata": {},
   "outputs": [],
   "source": [
    "glove_word_indexes: Optional[dict[str, int]] = global_cache.get(\"glove_word_indexes\")\n",
    "glove_word_vectors: Optional[np.ndarray] = global_cache.get(\"glove_word_vectors\")\n",
    "\n",
    "if (glove_word_indexes is None) or (glove_word_vectors is None):\n",
    "    glove_prepare_task.wait()\n",
    "    glove_word_indexes, glove_word_vectors = parse_glove_data(target_glove_file_name)\n",
    "\n",
    "    try:\n",
    "        global_cache.put(\"glove_word_indexes\", glove_word_indexes)\n",
    "        global_cache.put(\"glove_word_vectors\", glove_word_vectors)\n",
    "    except Exception as e:\n",
    "        print(e)"
   ]
  },
  {
   "cell_type": "markdown",
   "metadata": {},
   "source": [
    "##### Setup the model, loss function, and optimizer"
   ]
  },
  {
   "cell_type": "code",
   "execution_count": 75,
   "metadata": {},
   "outputs": [
    {
     "name": "stdout",
     "output_type": "stream",
     "text": [
      "Training set tokens not in GloVe: 8298\n",
      "45101\n",
      "SentimentLSTMModel(\n",
      "  (embedding): Embedding(400002, 100, padding_idx=0)\n",
      "  (lstm): LSTM(100, 256, num_layers=2, batch_first=True, dropout=0.5, bidirectional=True)\n",
      "  (attention): AttentionMechanism()\n",
      "  (dropout): Dropout(p=0.5, inplace=False)\n",
      "  (fc): Linear(in_features=512, out_features=3, bias=True)\n",
      "  (batch_norm): BatchNorm1d(3, eps=1e-05, momentum=0.1, affine=True, track_running_stats=True)\n",
      ")\n"
     ]
    }
   ],
   "source": [
    "assert glove_word_indexes is not None\n",
    "assert glove_word_vectors is not None\n",
    "\n",
    "glove_vectorizer = GloVeVectorizer(glove_word_indexes, glove_word_vectors)\n",
    "\n",
    "training_glove_indexes = glove_vectorizer.ordinalization(\n",
    "    cleaned_training_tweets\n",
    ")\n",
    "\n",
    "# Calculate how many tokens in the training set are not in the GloVe word vectors.\n",
    "training_glove_tokens = np.count_nonzero(training_glove_indexes == 400001)\n",
    "print(f\"Training set tokens not in GloVe: {training_glove_tokens}\")\n",
    "print(len(training_glove_indexes))\n",
    "\n",
    "dev_glove_indexes = glove_vectorizer.ordinalization(cleaned_dev_tweets)\n",
    "\n",
    "test_glove_indexs = [\n",
    "    glove_vectorizer.ordinalization(test_data)\n",
    "    for test_data in cleaned_test_tweets\n",
    "]\n",
    "\n",
    "lstm_training_dataset = TensorDataset(\n",
    "    torch.from_numpy(training_glove_indexes).to_dense().to(device),\n",
    "    torch.tensor(\n",
    "        [sentiments.value for sentiments in training_sentiments]\n",
    "    ).to_dense().to(device)\n",
    ")\n",
    "lstm_dev_dataset = TensorDataset(\n",
    "    torch.from_numpy(dev_glove_indexes).to_dense().to(device),\n",
    "    torch.tensor(\n",
    "        [sentiments.value for sentiments in dev_sentiments]\n",
    "    ).to_dense().to(device)\n",
    ")\n",
    "lstm_test_datasets = [\n",
    "    TensorDataset(\n",
    "        torch.from_numpy(test_glove_index).to_dense().to(device),\n",
    "        torch.tensor(\n",
    "            [sentiments.value for sentiments in test_sentiments]\n",
    "        ).to_dense().to(device)\n",
    "    )\n",
    "    for test_glove_index, test_sentiments in zip(\n",
    "        test_glove_indexs,\n",
    "        test_sentiments\n",
    "    )\n",
    "]\n",
    "\n",
    "lstm_model = SentimentLSTMModel(\n",
    "    embedding_dim=glove_word_vectors.shape[1],\n",
    "    hidden_size=256,\n",
    "    output_size=len(Sentiment.gts()),\n",
    "    pretrained_embeddings=torch.from_numpy(glove_word_vectors).float()\n",
    ").to(device)\n",
    "\n",
    "lstm_loss_fn = torch.nn.CrossEntropyLoss(\n",
    "    ignore_index=400001\n",
    ").to(device)\n",
    "lstm_optimizer = torch.optim.AdamW(\n",
    "    lstm_model.parameters(),\n",
    "    lr=1e-2,\n",
    "    weight_decay=1e-4\n",
    ")\n",
    "\n",
    "print(lstm_model)"
   ]
  },
  {
   "cell_type": "markdown",
   "metadata": {},
   "source": [
    "##### train the model"
   ]
  },
  {
   "cell_type": "code",
   "execution_count": 76,
   "metadata": {},
   "outputs": [
    {
     "name": "stderr",
     "output_type": "stream",
     "text": [
      "LSTM Training: 100%|██████████| 89/89 [00:06<00:00, 14.70it/s]\n",
      "LSTM Evaluating: 100%|██████████| 4/4 [00:00<00:00, 51.66it/s]\n"
     ]
    },
    {
     "name": "stdout",
     "output_type": "stream",
     "text": [
      "Epoch 1/20, Train Loss: 0.96952, Dev Loss: 0.83117, Dev Accuracy: 0.60350\n"
     ]
    },
    {
     "name": "stderr",
     "output_type": "stream",
     "text": [
      "LSTM Training: 100%|██████████| 89/89 [00:06<00:00, 14.68it/s]\n",
      "LSTM Evaluating: 100%|██████████| 4/4 [00:00<00:00, 51.41it/s]\n"
     ]
    },
    {
     "name": "stdout",
     "output_type": "stream",
     "text": [
      "Epoch 2/20, Train Loss: 0.85597, Dev Loss: 0.77573, Dev Accuracy: 0.63400\n"
     ]
    },
    {
     "name": "stderr",
     "output_type": "stream",
     "text": [
      "LSTM Training: 100%|██████████| 89/89 [00:08<00:00, 11.02it/s]\n",
      "LSTM Evaluating: 100%|██████████| 4/4 [00:00<00:00, 51.83it/s]\n"
     ]
    },
    {
     "name": "stdout",
     "output_type": "stream",
     "text": [
      "Epoch 3/20, Train Loss: 0.83467, Dev Loss: 0.76521, Dev Accuracy: 0.63900\n"
     ]
    },
    {
     "name": "stderr",
     "output_type": "stream",
     "text": [
      "LSTM Training: 100%|██████████| 89/89 [00:07<00:00, 11.22it/s]\n",
      "LSTM Evaluating: 100%|██████████| 4/4 [00:00<00:00, 50.84it/s]\n"
     ]
    },
    {
     "name": "stdout",
     "output_type": "stream",
     "text": [
      "Epoch 4/20, Train Loss: 0.81247, Dev Loss: 0.75492, Dev Accuracy: 0.64450\n"
     ]
    },
    {
     "name": "stderr",
     "output_type": "stream",
     "text": [
      "LSTM Training: 100%|██████████| 89/89 [00:08<00:00, 11.00it/s]\n",
      "LSTM Evaluating: 100%|██████████| 4/4 [00:00<00:00, 51.23it/s]\n"
     ]
    },
    {
     "name": "stdout",
     "output_type": "stream",
     "text": [
      "Epoch 5/20, Train Loss: 0.80062, Dev Loss: 0.74661, Dev Accuracy: 0.65850\n"
     ]
    },
    {
     "name": "stderr",
     "output_type": "stream",
     "text": [
      "LSTM Training: 100%|██████████| 89/89 [00:06<00:00, 14.58it/s]\n",
      "LSTM Evaluating: 100%|██████████| 4/4 [00:00<00:00, 51.52it/s]\n"
     ]
    },
    {
     "name": "stdout",
     "output_type": "stream",
     "text": [
      "Epoch 6/20, Train Loss: 0.79467, Dev Loss: 0.73576, Dev Accuracy: 0.66200\n"
     ]
    },
    {
     "name": "stderr",
     "output_type": "stream",
     "text": [
      "LSTM Training: 100%|██████████| 89/89 [00:08<00:00, 11.05it/s]\n",
      "LSTM Evaluating: 100%|██████████| 4/4 [00:00<00:00, 50.96it/s]\n"
     ]
    },
    {
     "name": "stdout",
     "output_type": "stream",
     "text": [
      "Epoch 7/20, Train Loss: 0.78550, Dev Loss: 0.73772, Dev Accuracy: 0.65500\n"
     ]
    },
    {
     "name": "stderr",
     "output_type": "stream",
     "text": [
      "LSTM Training: 100%|██████████| 89/89 [00:06<00:00, 13.99it/s]\n",
      "LSTM Evaluating: 100%|██████████| 4/4 [00:00<00:00, 50.94it/s]\n"
     ]
    },
    {
     "name": "stdout",
     "output_type": "stream",
     "text": [
      "Epoch 8/20, Train Loss: 0.77882, Dev Loss: 0.74977, Dev Accuracy: 0.64950\n"
     ]
    },
    {
     "name": "stderr",
     "output_type": "stream",
     "text": [
      "LSTM Training: 100%|██████████| 89/89 [00:06<00:00, 14.22it/s]\n",
      "LSTM Evaluating: 100%|██████████| 4/4 [00:00<00:00, 51.69it/s]\n"
     ]
    },
    {
     "name": "stdout",
     "output_type": "stream",
     "text": [
      "Epoch 9/20, Train Loss: 0.77781, Dev Loss: 0.72770, Dev Accuracy: 0.66750\n"
     ]
    },
    {
     "name": "stderr",
     "output_type": "stream",
     "text": [
      "LSTM Training: 100%|██████████| 89/89 [00:06<00:00, 14.19it/s]\n",
      "LSTM Evaluating: 100%|██████████| 4/4 [00:00<00:00, 50.93it/s]\n"
     ]
    },
    {
     "name": "stdout",
     "output_type": "stream",
     "text": [
      "Epoch 10/20, Train Loss: 0.77185, Dev Loss: 0.74100, Dev Accuracy: 0.67500\n"
     ]
    },
    {
     "name": "stderr",
     "output_type": "stream",
     "text": [
      "LSTM Training: 100%|██████████| 89/89 [00:08<00:00, 10.86it/s]\n",
      "LSTM Evaluating: 100%|██████████| 4/4 [00:00<00:00, 50.81it/s]\n"
     ]
    },
    {
     "name": "stdout",
     "output_type": "stream",
     "text": [
      "Epoch 11/20, Train Loss: 0.76798, Dev Loss: 0.73157, Dev Accuracy: 0.66750\n"
     ]
    },
    {
     "name": "stderr",
     "output_type": "stream",
     "text": [
      "LSTM Training: 100%|██████████| 89/89 [00:06<00:00, 13.91it/s]\n",
      "LSTM Evaluating: 100%|██████████| 4/4 [00:00<00:00, 48.94it/s]\n"
     ]
    },
    {
     "name": "stdout",
     "output_type": "stream",
     "text": [
      "Epoch 12/20, Train Loss: 0.76400, Dev Loss: 0.72428, Dev Accuracy: 0.67650\n"
     ]
    },
    {
     "name": "stderr",
     "output_type": "stream",
     "text": [
      "LSTM Training: 100%|██████████| 89/89 [00:08<00:00, 10.90it/s]\n",
      "LSTM Evaluating: 100%|██████████| 4/4 [00:00<00:00, 48.78it/s]\n"
     ]
    },
    {
     "name": "stdout",
     "output_type": "stream",
     "text": [
      "Epoch 13/20, Train Loss: 0.75928, Dev Loss: 0.73676, Dev Accuracy: 0.66200\n"
     ]
    },
    {
     "name": "stderr",
     "output_type": "stream",
     "text": [
      "LSTM Training: 100%|██████████| 89/89 [00:06<00:00, 13.81it/s]\n",
      "LSTM Evaluating: 100%|██████████| 4/4 [00:00<00:00, 48.68it/s]\n"
     ]
    },
    {
     "name": "stdout",
     "output_type": "stream",
     "text": [
      "Epoch 14/20, Train Loss: 0.75863, Dev Loss: 0.74788, Dev Accuracy: 0.66000\n"
     ]
    },
    {
     "name": "stderr",
     "output_type": "stream",
     "text": [
      "LSTM Training: 100%|██████████| 89/89 [00:06<00:00, 13.85it/s]\n",
      "LSTM Evaluating: 100%|██████████| 4/4 [00:00<00:00, 48.86it/s]\n"
     ]
    },
    {
     "name": "stdout",
     "output_type": "stream",
     "text": [
      "Epoch 15/20, Train Loss: 0.76076, Dev Loss: 0.72291, Dev Accuracy: 0.66650\n"
     ]
    },
    {
     "name": "stderr",
     "output_type": "stream",
     "text": [
      "LSTM Training: 100%|██████████| 89/89 [00:06<00:00, 13.80it/s]\n",
      "LSTM Evaluating: 100%|██████████| 4/4 [00:00<00:00, 48.81it/s]\n"
     ]
    },
    {
     "name": "stdout",
     "output_type": "stream",
     "text": [
      "Epoch 16/20, Train Loss: 0.75626, Dev Loss: 0.72934, Dev Accuracy: 0.67250\n"
     ]
    },
    {
     "name": "stderr",
     "output_type": "stream",
     "text": [
      "LSTM Training: 100%|██████████| 89/89 [00:06<00:00, 13.40it/s]\n",
      "LSTM Evaluating: 100%|██████████| 4/4 [00:00<00:00, 48.96it/s]\n"
     ]
    },
    {
     "name": "stdout",
     "output_type": "stream",
     "text": [
      "Epoch 17/20, Train Loss: 0.75385, Dev Loss: 0.72516, Dev Accuracy: 0.66750\n"
     ]
    },
    {
     "name": "stderr",
     "output_type": "stream",
     "text": [
      "LSTM Training: 100%|██████████| 89/89 [00:06<00:00, 13.81it/s]\n",
      "LSTM Evaluating: 100%|██████████| 4/4 [00:00<00:00, 48.85it/s]\n"
     ]
    },
    {
     "name": "stdout",
     "output_type": "stream",
     "text": [
      "Epoch 18/20, Train Loss: 0.75079, Dev Loss: 0.73006, Dev Accuracy: 0.66600\n"
     ]
    },
    {
     "name": "stderr",
     "output_type": "stream",
     "text": [
      "LSTM Training: 100%|██████████| 89/89 [00:06<00:00, 13.84it/s]\n",
      "LSTM Evaluating: 100%|██████████| 4/4 [00:00<00:00, 48.88it/s]\n"
     ]
    },
    {
     "name": "stdout",
     "output_type": "stream",
     "text": [
      "Epoch 19/20, Train Loss: 0.75491, Dev Loss: 0.71966, Dev Accuracy: 0.67000\n"
     ]
    },
    {
     "name": "stderr",
     "output_type": "stream",
     "text": [
      "LSTM Training: 100%|██████████| 89/89 [00:06<00:00, 13.81it/s]\n",
      "LSTM Evaluating: 100%|██████████| 4/4 [00:00<00:00, 48.73it/s]\n"
     ]
    },
    {
     "name": "stdout",
     "output_type": "stream",
     "text": [
      "Epoch 20/20, Train Loss: 0.75246, Dev Loss: 0.72288, Dev Accuracy: 0.66900\n"
     ]
    },
    {
     "name": "stderr",
     "output_type": "stream",
     "text": [
      "LSTM Evaluating: 100%|██████████| 7/7 [00:00<00:00, 56.59it/s]\n",
      "LSTM Evaluating: 100%|██████████| 4/4 [00:00<00:00, 67.49it/s]\n",
      "LSTM Evaluating: 100%|██████████| 5/5 [00:00<00:00, 68.63it/s]"
     ]
    },
    {
     "name": "stdout",
     "output_type": "stream",
     "text": [
      "Test 1 Accuracy: 0.65959\n",
      "Test 2 Accuracy: 0.66649\n",
      "Test 3 Accuracy: 0.64439\n"
     ]
    },
    {
     "name": "stderr",
     "output_type": "stream",
     "text": [
      "\n"
     ]
    }
   ],
   "source": [
    "epochs = 20\n",
    "batch_size = 512\n",
    "workers = cpu_count() or 1\n",
    "\n",
    "lstm_training_loader = DataLoader(\n",
    "    lstm_training_dataset,\n",
    "    batch_size=batch_size,\n",
    "    shuffle=True,\n",
    ")\n",
    "lstm_dev_loader = DataLoader(\n",
    "    lstm_dev_dataset,\n",
    "    batch_size=batch_size,\n",
    "    shuffle=False,\n",
    ")\n",
    "lstm_test_loaders = [\n",
    "    DataLoader(\n",
    "        test_dataset,\n",
    "        batch_size=batch_size,\n",
    "        shuffle=False,\n",
    "    )\n",
    "    for test_dataset in lstm_test_datasets\n",
    "]\n",
    "torch.jit.enable_onednn_fusion(True)\n",
    "torch.backends.cudnn.benchmark = True\n",
    "\n",
    "lstm_best_dev_accuracy = float('-inf')\n",
    "preserve_lstm_model_task = BackgroundTask(lambda: None)\n",
    "\n",
    "for epoch in range(epochs):\n",
    "    train_loss = train_torch_model(\n",
    "        lstm_model,\n",
    "        lstm_training_loader,\n",
    "        lstm_loss_fn,\n",
    "        lstm_optimizer\n",
    "    )\n",
    "    dev_accuracy, dev_loss = evaluate_torch_model(\n",
    "        lstm_model,\n",
    "        lstm_dev_loader,\n",
    "        lstm_loss_fn\n",
    "    )\n",
    "\n",
    "    if dev_accuracy > lstm_best_dev_accuracy:\n",
    "        lstm_best_dev_accuracy = dev_accuracy\n",
    "        preserve_lstm_model_task.wait()\n",
    "        preserve_lstm_model_task = BackgroundTask(\n",
    "            preserve_torch_model,\n",
    "            lstm_model,\n",
    "            file_path=lstm_model_save_path\n",
    "        )\n",
    "\n",
    "    print(\n",
    "        f\"Epoch {epoch+1}/{epochs}, Train Loss: {train_loss:.5f}, \"\n",
    "        f\"Dev Loss: {dev_loss:.5f}, Dev Accuracy: {dev_accuracy:.5f}\"\n",
    "    )\n",
    "\n",
    "lstm_test_accuracies = [\n",
    "    evaluate_torch_model(\n",
    "        lstm_model,\n",
    "        test_loader,\n",
    "        lstm_loss_fn\n",
    "    )\n",
    "    for test_loader in lstm_test_loaders\n",
    "]\n",
    "\n",
    "for i, (test_accuracy, _) in enumerate(lstm_test_accuracies):\n",
    "    print(f\"Test {i+1} Accuracy: {test_accuracy:.5f}\")"
   ]
  },
  {
   "cell_type": "markdown",
   "metadata": {},
   "source": [
    "#### BERT Classifier"
   ]
  },
  {
   "cell_type": "code",
   "execution_count": 77,
   "metadata": {},
   "outputs": [],
   "source": [
    "bert_prepare_task.wait()\n",
    "\n",
    "bert_tokenizer: BertTokenizer = BertTokenizer.from_pretrained(\n",
    "    target_bert_model_name)\n",
    "\n",
    "bert_model_pretrained: BertModel = BertModel.from_pretrained(\n",
    "    target_bert_model_name\n",
    ")  # type: ignore"
   ]
  },
  {
   "cell_type": "code",
   "execution_count": 78,
   "metadata": {},
   "outputs": [],
   "source": [
    "def preprocess_bert() -> tuple[TensorDataset, TensorDataset, list[TensorDataset]]:\n",
    "    training_bert = bert_tokenizer(\n",
    "        list(cleaned_training_tweets.values()),\n",
    "        padding=True,\n",
    "        truncation=True,\n",
    "        return_tensors=\"pt\"\n",
    "    )\n",
    "    dev_bert = bert_tokenizer(\n",
    "        list(cleaned_dev_tweets.values()),\n",
    "        padding=True,\n",
    "        truncation=True,\n",
    "        return_tensors=\"pt\"\n",
    "    )\n",
    "    test_berts = [\n",
    "        bert_tokenizer(\n",
    "            list(test_data.values()),\n",
    "            padding=True,\n",
    "            truncation=True,\n",
    "            return_tensors=\"pt\"\n",
    "        )\n",
    "        for test_data in cleaned_test_tweets\n",
    "    ]\n",
    "\n",
    "    training_bert_dataset = TensorDataset(\n",
    "        training_bert.input_ids.to_dense().to(device),\n",
    "        training_bert.attention_mask.to_dense().to(device),\n",
    "        torch.tensor(\n",
    "            [sentiments.value for sentiments in training_sentiments]\n",
    "        ).to_dense().to(device)\n",
    "    )\n",
    "    dev_bert_dataset = TensorDataset(\n",
    "        dev_bert.input_ids.to_dense().to(device),\n",
    "        dev_bert.attention_mask.to_dense().to(device),\n",
    "        torch.tensor(\n",
    "            [sentiments.value for sentiments in dev_sentiments]\n",
    "        ).to_dense().to(device)\n",
    "    )\n",
    "    test_bert_datasets = [\n",
    "        TensorDataset(\n",
    "            test_bert.input_ids.to_dense().to(device),\n",
    "            test_bert.attention_mask.to_dense().to(device),\n",
    "            torch.tensor(\n",
    "                [sentiments.value for sentiments in test_sentiments]\n",
    "            ).to_dense().to(device)\n",
    "        )\n",
    "        for test_bert, test_sentiments in zip(\n",
    "            test_berts,\n",
    "            test_sentiments\n",
    "        )\n",
    "    ]\n",
    "\n",
    "    return training_bert_dataset, dev_bert_dataset, test_bert_datasets"
   ]
  },
  {
   "cell_type": "code",
   "execution_count": 79,
   "metadata": {},
   "outputs": [],
   "source": [
    "class AttentionPooling(torch.nn.Module):\n",
    "    def __init__(self, hidden_dim: int):\n",
    "        super(AttentionPooling, self).__init__()\n",
    "        self.attention_weights = torch.nn.Parameter(torch.randn(hidden_dim, 1))\n",
    "\n",
    "    def forward(self, encoder_outputs: torch.Tensor) -> torch.Tensor:\n",
    "        attention_scores = torch.matmul(\n",
    "            encoder_outputs,\n",
    "            self.attention_weights\n",
    "        )\n",
    "        attention_scores = torch.softmax(attention_scores, dim=1)\n",
    "        weighted_output = encoder_outputs * attention_scores\n",
    "        return torch.sum(weighted_output, dim=1)\n",
    "\n",
    "\n",
    "class SentimentBERTModel(torch.nn.Module):\n",
    "    def __init__(self, freeze: bool = False, config: BertConfig = BertConfig()):\n",
    "        super(SentimentBERTModel, self).__init__()\n",
    "\n",
    "        label_count = len(Sentiment.gts())\n",
    "        self.bert = bert_model_pretrained\n",
    "        self.attention_pooling = AttentionPooling(config.hidden_size)\n",
    "\n",
    "        self.classifier = self.__gen_classifier(\n",
    "            hidden_size=config.hidden_size,\n",
    "            label_count=label_count\n",
    "        )\n",
    "\n",
    "        if freeze:\n",
    "            for param in self.bert.parameters():\n",
    "                param.requires_grad = False\n",
    "\n",
    "    @staticmethod\n",
    "    def __gen_hidden_layers(\n",
    "        *,\n",
    "        hidden_size: int,\n",
    "        output_size: int,\n",
    "        label_count: int,\n",
    "    ) -> Generator[tuple[torch.nn.Module, ...], None, None]:\n",
    "        _a, _b = hidden_size, hidden_size * 2\n",
    "        chain_size_min = output_size * label_count\n",
    "\n",
    "        def hidden_nn(\n",
    "            _s1: int,\n",
    "            _s2: int\n",
    "        ) -> tuple[\n",
    "            torch.nn.Linear,\n",
    "            torch.nn.Dropout,\n",
    "            torch.nn.ReLU\n",
    "        ]:\n",
    "            return (\n",
    "                torch.nn.Linear(_s1, _s2, bias=True),\n",
    "                torch.nn.Dropout(0.2),\n",
    "                torch.nn.ReLU(),\n",
    "            )\n",
    "\n",
    "        while _b > chain_size_min:\n",
    "            yield hidden_nn(_a, _b)\n",
    "            _a, _b = _b, _b // 2\n",
    "\n",
    "        yield hidden_nn(_a, output_size)\n",
    "\n",
    "    def __gen_classifier(\n",
    "        self,\n",
    "        *,\n",
    "        hidden_size: int,\n",
    "        label_count: int,\n",
    "    ) -> torch.nn.Sequential:\n",
    "        return torch.nn.Sequential(\n",
    "            *chain.from_iterable(\n",
    "                self.__gen_hidden_layers(\n",
    "                    hidden_size=hidden_size,\n",
    "                    output_size=(_hidden_output_size := (label_count*16)),\n",
    "                    label_count=label_count,\n",
    "                )\n",
    "            ),\n",
    "            torch.nn.Linear(_hidden_output_size, label_count),\n",
    "            torch.nn.Dropout(0.5),\n",
    "            torch.nn.BatchNorm1d(label_count)\n",
    "        )\n",
    "\n",
    "    def forward(\n",
    "        self,\n",
    "        input_ids: torch.Tensor,\n",
    "        attention_mask: Optional[torch.Tensor] = None,\n",
    "    ) -> torch.Tensor:\n",
    "        outputs = self.bert(input_ids=input_ids, attention_mask=attention_mask)\n",
    "        encoder_outputs = outputs.last_hidden_state\n",
    "        pooled_output = self.attention_pooling(encoder_outputs)\n",
    "        return self.classifier(pooled_output)"
   ]
  },
  {
   "cell_type": "code",
   "execution_count": 80,
   "metadata": {},
   "outputs": [],
   "source": [
    "def bert_train(\n",
    "    model: torch.nn.Module,\n",
    "    train_loader: DataLoader,\n",
    "    optimizer: torch.optim.Optimizer,\n",
    "    scheduler: torch.optim.lr_scheduler.LambdaLR,\n",
    "    loss_fn: torch.nn.Module,\n",
    ") -> float:\n",
    "    model.train()\n",
    "    total_loss = 0.0\n",
    "    for batch in tqdm(train_loader, desc=\"Bert Training\"):\n",
    "        inputs = {\n",
    "            'input_ids': batch[0],\n",
    "            'attention_mask': batch[1],\n",
    "        }\n",
    "        labels = batch[2]\n",
    "\n",
    "        optimizer.zero_grad(set_to_none=True)\n",
    "\n",
    "        with torch.set_grad_enabled(True), torch.cuda.amp.autocast():\n",
    "            outputs = model(**inputs)\n",
    "            loss = loss_fn(outputs, labels)\n",
    "        loss.backward()\n",
    "        optimizer.step()\n",
    "        scheduler.step()\n",
    "\n",
    "        total_loss += loss.item()\n",
    "\n",
    "    average_loss = total_loss / len(train_loader)\n",
    "    return average_loss\n",
    "\n",
    "\n",
    "def bert_evaluate(\n",
    "    model: torch.nn.Module,\n",
    "    validation_loader: DataLoader,\n",
    "    loss_fn: torch.nn.Module,\n",
    ") -> tuple[float, float]:\n",
    "    model.eval()\n",
    "    total_loss = 0.0\n",
    "    correct = 0\n",
    "    total = 0\n",
    "    \n",
    "    with torch.no_grad(), torch.cuda.amp.autocast():\n",
    "        for batch in tqdm(validation_loader, desc=\"Bert Evaluating\"):\n",
    "            inputs = {\n",
    "                'input_ids': batch[0],\n",
    "                'attention_mask': batch[1],\n",
    "            }\n",
    "            labels = batch[2]\n",
    "\n",
    "            outputs = model(**inputs)\n",
    "            loss = loss_fn(outputs, labels)\n",
    "            total_loss += loss.item()\n",
    "            correct += (torch.argmax(outputs, dim=1) == labels).sum().item()\n",
    "            total += labels.size(0)\n",
    "\n",
    "    average_loss = total_loss / len(validation_loader)\n",
    "    accuracy = correct / total\n",
    "    return average_loss, accuracy"
   ]
  },
  {
   "cell_type": "code",
   "execution_count": 81,
   "metadata": {},
   "outputs": [
    {
     "name": "stdout",
     "output_type": "stream",
     "text": [
      "SentimentBERTModel(\n",
      "  (bert): BertModel(\n",
      "    (embeddings): BertEmbeddings(\n",
      "      (word_embeddings): Embedding(105879, 768, padding_idx=0)\n",
      "      (position_embeddings): Embedding(512, 768)\n",
      "      (token_type_embeddings): Embedding(2, 768)\n",
      "      (LayerNorm): LayerNorm((768,), eps=1e-12, elementwise_affine=True)\n",
      "      (dropout): Dropout(p=0.1, inplace=False)\n",
      "    )\n",
      "    (encoder): BertEncoder(\n",
      "      (layer): ModuleList(\n",
      "        (0-11): 12 x BertLayer(\n",
      "          (attention): BertAttention(\n",
      "            (self): BertSelfAttention(\n",
      "              (query): Linear(in_features=768, out_features=768, bias=True)\n",
      "              (key): Linear(in_features=768, out_features=768, bias=True)\n",
      "              (value): Linear(in_features=768, out_features=768, bias=True)\n",
      "              (dropout): Dropout(p=0.1, inplace=False)\n",
      "            )\n",
      "            (output): BertSelfOutput(\n",
      "              (dense): Linear(in_features=768, out_features=768, bias=True)\n",
      "              (LayerNorm): LayerNorm((768,), eps=1e-12, elementwise_affine=True)\n",
      "              (dropout): Dropout(p=0.1, inplace=False)\n",
      "            )\n",
      "          )\n",
      "          (intermediate): BertIntermediate(\n",
      "            (dense): Linear(in_features=768, out_features=3072, bias=True)\n",
      "            (intermediate_act_fn): GELUActivation()\n",
      "          )\n",
      "          (output): BertOutput(\n",
      "            (dense): Linear(in_features=3072, out_features=768, bias=True)\n",
      "            (LayerNorm): LayerNorm((768,), eps=1e-12, elementwise_affine=True)\n",
      "            (dropout): Dropout(p=0.1, inplace=False)\n",
      "          )\n",
      "        )\n",
      "      )\n",
      "    )\n",
      "    (pooler): BertPooler(\n",
      "      (dense): Linear(in_features=768, out_features=768, bias=True)\n",
      "      (activation): Tanh()\n",
      "    )\n",
      "  )\n",
      "  (attention_pooling): AttentionPooling()\n",
      "  (classifier): Sequential(\n",
      "    (0): Linear(in_features=768, out_features=1536, bias=True)\n",
      "    (1): Dropout(p=0.2, inplace=False)\n",
      "    (2): ReLU()\n",
      "    (3): Linear(in_features=1536, out_features=768, bias=True)\n",
      "    (4): Dropout(p=0.2, inplace=False)\n",
      "    (5): ReLU()\n",
      "    (6): Linear(in_features=768, out_features=384, bias=True)\n",
      "    (7): Dropout(p=0.2, inplace=False)\n",
      "    (8): ReLU()\n",
      "    (9): Linear(in_features=384, out_features=192, bias=True)\n",
      "    (10): Dropout(p=0.2, inplace=False)\n",
      "    (11): ReLU()\n",
      "    (12): Linear(in_features=192, out_features=48, bias=True)\n",
      "    (13): Dropout(p=0.2, inplace=False)\n",
      "    (14): ReLU()\n",
      "    (15): Linear(in_features=48, out_features=3, bias=True)\n",
      "    (16): Dropout(p=0.5, inplace=False)\n",
      "    (17): BatchNorm1d(3, eps=1e-05, momentum=0.1, affine=True, track_running_stats=True)\n",
      "  )\n",
      ")\n"
     ]
    }
   ],
   "source": [
    "epochs = 4\n",
    "batch_size = 32\n",
    "\n",
    "bert_model = SentimentBERTModel(freeze=False).to(device)\n",
    "bert_optimizer = torch.optim.AdamW(bert_model.parameters(), lr=2e-5, weight_decay=1e-5)\n",
    "bert_looser = torch.nn.CrossEntropyLoss().to(device)\n",
    "\n",
    "print(bert_model)\n",
    "\n",
    "bert_total_steps = len(cleaned_training_tweets) * epochs\n",
    "bert_scheduler = get_linear_schedule_with_warmup(\n",
    "    bert_optimizer,\n",
    "    num_warmup_steps=0,\n",
    "    num_training_steps=bert_total_steps\n",
    ")\n",
    "\n",
    "training_bert_dataset, dev_bert_dataset, test_bert_datasets = preprocess_bert()\n",
    "\n",
    "training_bert_loader = DataLoader(\n",
    "    training_bert_dataset,\n",
    "    batch_size=batch_size,\n",
    "    shuffle=True\n",
    ")\n",
    "dev_bert_loader = DataLoader(\n",
    "    dev_bert_dataset,\n",
    "    batch_size=batch_size,\n",
    "    shuffle=False\n",
    ")\n",
    "test_bert_loaders = [\n",
    "    DataLoader(\n",
    "        test_bert_dataset,\n",
    "        batch_size=batch_size,\n",
    "        shuffle=False\n",
    "    )\n",
    "    for test_bert_dataset in test_bert_datasets\n",
    "]"
   ]
  },
  {
   "cell_type": "code",
   "execution_count": 82,
   "metadata": {},
   "outputs": [
    {
     "name": "stderr",
     "output_type": "stream",
     "text": [
      "Bert Training: 100%|██████████| 1410/1410 [05:02<00:00,  4.67it/s]\n",
      "Bert Evaluating: 100%|██████████| 63/63 [00:04<00:00, 12.71it/s]\n"
     ]
    },
    {
     "name": "stdout",
     "output_type": "stream",
     "text": [
      "Epoch 1/4, Train Loss: 1.09290, Dev Loss: 0.87702, Dev Accuracy: 0.63450\n"
     ]
    },
    {
     "name": "stderr",
     "output_type": "stream",
     "text": [
      "Bert Training: 100%|██████████| 1410/1410 [05:08<00:00,  4.57it/s]\n",
      "Bert Evaluating: 100%|██████████| 63/63 [00:04<00:00, 12.72it/s]\n"
     ]
    },
    {
     "name": "stdout",
     "output_type": "stream",
     "text": [
      "Epoch 2/4, Train Loss: 0.94669, Dev Loss: 0.82693, Dev Accuracy: 0.66050\n"
     ]
    },
    {
     "name": "stderr",
     "output_type": "stream",
     "text": [
      "Bert Training: 100%|██████████| 1410/1410 [05:08<00:00,  4.57it/s]\n",
      "Bert Evaluating: 100%|██████████| 63/63 [00:04<00:00, 12.70it/s]\n"
     ]
    },
    {
     "name": "stdout",
     "output_type": "stream",
     "text": [
      "Epoch 3/4, Train Loss: 0.90393, Dev Loss: 0.80351, Dev Accuracy: 0.66900\n"
     ]
    },
    {
     "name": "stderr",
     "output_type": "stream",
     "text": [
      "Bert Training: 100%|██████████| 1410/1410 [05:08<00:00,  4.57it/s]\n",
      "Bert Evaluating: 100%|██████████| 63/63 [00:04<00:00, 12.73it/s]\n"
     ]
    },
    {
     "name": "stdout",
     "output_type": "stream",
     "text": [
      "Epoch 4/4, Train Loss: 0.86107, Dev Loss: 0.80685, Dev Accuracy: 0.68050\n"
     ]
    },
    {
     "name": "stderr",
     "output_type": "stream",
     "text": [
      "Bert Evaluating: 100%|██████████| 111/111 [00:12<00:00,  8.97it/s]\n",
      "Bert Evaluating: 100%|██████████| 58/58 [00:02<00:00, 24.61it/s]\n",
      "Bert Evaluating: 100%|██████████| 75/75 [00:03<00:00, 24.68it/s]"
     ]
    },
    {
     "name": "stdout",
     "output_type": "stream",
     "text": [
      "Test 1 Loss: 0.78427, Test 1 Accuracy: 0.68026\n",
      "Test 2 Loss: 0.76475, Test 2 Accuracy: 0.68322\n",
      "Test 3 Loss: 0.83217, Test 3 Accuracy: 0.64439\n"
     ]
    },
    {
     "name": "stderr",
     "output_type": "stream",
     "text": [
      "\n"
     ]
    }
   ],
   "source": [
    "best_bert_dev_accuracy = float('-inf')\n",
    "save_bert_model_task = BackgroundTask(lambda: None)\n",
    "\n",
    "for epoch in range(epochs):\n",
    "    bert_train_loss = bert_train(\n",
    "        bert_model,\n",
    "        training_bert_loader,\n",
    "        bert_optimizer,\n",
    "        bert_scheduler,\n",
    "        bert_looser\n",
    "    )\n",
    "    bert_dev_loss, bert_dev_accuracy = bert_evaluate(\n",
    "        bert_model,\n",
    "        dev_bert_loader,\n",
    "        bert_looser\n",
    "    )\n",
    "\n",
    "    if bert_dev_accuracy > best_bert_dev_accuracy:\n",
    "        best_bert_dev_accuracy = bert_dev_accuracy\n",
    "        save_bert_model_task.wait()\n",
    "        save_bert_model_task = BackgroundTask(\n",
    "            preserve_torch_model,\n",
    "            bert_model,\n",
    "            file_path=bert_model_save_path\n",
    "        )\n",
    "\n",
    "    print(\n",
    "        f\"Epoch {epoch+1}/{epochs}, Train Loss: {bert_train_loss:.5f}, \"\n",
    "        f\"Dev Loss: {bert_dev_loss:.5f}, \"\n",
    "        f\"Dev Accuracy: {bert_dev_accuracy:.5f}\"\n",
    "    )\n",
    "\n",
    "bert_test_results = [\n",
    "    bert_evaluate(\n",
    "        bert_model,\n",
    "        test_bert_loader,\n",
    "        bert_looser\n",
    "    )\n",
    "    for test_bert_loader in test_bert_loaders\n",
    "]\n",
    "\n",
    "for i, (test_loss, test_accuracy) in enumerate(bert_test_results):\n",
    "    print(f\"Test {i+1} Loss: {test_loss:.5f}, Test {i +\n",
    "          1} Accuracy: {test_accuracy:.5f}\")"
   ]
  },
  {
   "cell_type": "markdown",
   "metadata": {},
   "source": [
    "### Final Results"
   ]
  },
  {
   "cell_type": "code",
   "execution_count": 83,
   "metadata": {},
   "outputs": [],
   "source": [
    "if device == \"cuda\":\n",
    "    torch.cuda.empty_cache()\n",
    "\n",
    "\n",
    "@lru_cache(typed=True)\n",
    "def predict_from_single_test_set(\n",
    "    test_set_index: int,\n",
    "    atomic_predict_process: Callable[[int, int], Sentiment]\n",
    ") -> dict[TweetID, Sentiment]:\n",
    "    target_dataset = test_datas[test_set_index]\n",
    "    return {\n",
    "        tweet_id: atomic_predict_process(tweet_index, test_set_index)\n",
    "        for tweet_index, (tweet_id, _) in tqdm(\n",
    "            enumerate(target_dataset.items()),\n",
    "            total=len(target_dataset)\n",
    "        )\n",
    "    }\n",
    "\n",
    "\n",
    "def show_skeleton_results(\n",
    "    test_set_index: int,\n",
    "    predictions: dict[TweetID, Sentiment],\n",
    "    classifier_name: str\n",
    "):\n",
    "    evaluate(\n",
    "        predict_results=predictions,\n",
    "        test_set_file_name_=test_set_names[test_set_index],\n",
    "        classifier_name_=classifier_name,\n",
    "    )\n",
    "    show_confusion(\n",
    "        predict_results=predictions,\n",
    "        test_set_file_name_=test_set_names[test_set_index],\n",
    "    )"
   ]
  },
  {
   "cell_type": "markdown",
   "metadata": {},
   "source": [
    "##### Atomic prediction process for every classifier"
   ]
  },
  {
   "cell_type": "code",
   "execution_count": 84,
   "metadata": {},
   "outputs": [],
   "source": [
    "def svm_atomic_predict_process(tweet_index: int, test_set_index: int) -> Sentiment:\n",
    "    preprocessed_matrix = fast_text_test_matrices[test_set_index][tweet_index].reshape(1, -1)\n",
    "    return Sentiment(svm_model.predict(preprocessed_matrix)[0])"
   ]
  },
  {
   "cell_type": "code",
   "execution_count": 85,
   "metadata": {},
   "outputs": [],
   "source": [
    "def naive_bayes_atomic_predict_process(tweet_index: int, test_set_index: int) -> Sentiment:\n",
    "    preprocessed_matrix = tfidf_test_matrices[test_set_index][tweet_index].reshape(1, -1)\n",
    "    return Sentiment(nb_model.predict(preprocessed_matrix)[0])"
   ]
  },
  {
   "cell_type": "code",
   "execution_count": 86,
   "metadata": {},
   "outputs": [],
   "source": [
    "def lstm_atomic_predict_process(tweet_index: int, test_set_index: int) -> Sentiment:\n",
    "    preprocessed_input, _ = lstm_test_datasets[test_set_index][tweet_index]\n",
    "\n",
    "    lstm_model.eval()\n",
    "\n",
    "    with torch.no_grad():\n",
    "        _, prediction = torch.max(\n",
    "            lstm_model(preprocessed_input.unsqueeze(0)),\n",
    "            dim=1\n",
    "        )\n",
    "\n",
    "    return Sentiment(prediction.item())"
   ]
  },
  {
   "cell_type": "code",
   "execution_count": 87,
   "metadata": {},
   "outputs": [],
   "source": [
    "def bert_atomic_predict_process(tweet_index: int, test_set_index: int) -> Sentiment:\n",
    "    preprocessed_input = test_bert_datasets[test_set_index][tweet_index]\n",
    "\n",
    "    model_input = {\n",
    "        'input_ids': preprocessed_input[0].view(1, -1),\n",
    "        'attention_mask': preprocessed_input[1].view(1, -1),\n",
    "    }\n",
    "\n",
    "    bert_model.eval()\n",
    "\n",
    "    with torch.no_grad():\n",
    "        output = bert_model(**model_input)\n",
    "\n",
    "    return Sentiment(torch.argmax(output, dim=1).item())"
   ]
  },
  {
   "cell_type": "markdown",
   "metadata": {},
   "source": [
    "##### Show results"
   ]
  },
  {
   "cell_type": "code",
   "execution_count": 88,
   "metadata": {},
   "outputs": [
    {
     "name": "stderr",
     "output_type": "stream",
     "text": [
      "100%|██████████| 3531/3531 [00:00<00:00, 11372.47it/s]\n"
     ]
    },
    {
     "name": "stdout",
     "output_type": "stream",
     "text": [
      "twitter-test1.txt (SVM) F1-macro: 0.627\n"
     ]
    },
    {
     "data": {
      "image/png": "[encoded data removed]",
      "text/plain": [
       "<Figure size 640x480 with 2 Axes>"
      ]
     },
     "metadata": {},
     "output_type": "display_data"
    },
    {
     "name": "stderr",
     "output_type": "stream",
     "text": [
      "100%|██████████| 1853/1853 [00:00<00:00, 11355.98it/s]\n"
     ]
    },
    {
     "name": "stdout",
     "output_type": "stream",
     "text": [
      "twitter-test2.txt (SVM) F1-macro: 0.630\n"
     ]
    },
    {
     "data": {
      "image/png": "[encoded data removed]",
      "text/plain": [
       "<Figure size 640x480 with 2 Axes>"
      ]
     },
     "metadata": {},
     "output_type": "display_data"
    },
    {
     "name": "stderr",
     "output_type": "stream",
     "text": [
      "100%|██████████| 2379/2379 [00:00<00:00, 11462.24it/s]\n"
     ]
    },
    {
     "name": "stdout",
     "output_type": "stream",
     "text": [
      "twitter-test3.txt (SVM) F1-macro: 0.597\n"
     ]
    },
    {
     "data": {
      "image/png": "[encoded data removed]",
      "text/plain": [
       "<Figure size 640x480 with 2 Axes>"
      ]
     },
     "metadata": {},
     "output_type": "display_data"
    }
   ],
   "source": [
    "for test_set_index in range(numbers_of_test_sets):\n",
    "    show_skeleton_results(\n",
    "        test_set_index,\n",
    "        predict_from_single_test_set(\n",
    "            test_set_index,\n",
    "            svm_atomic_predict_process\n",
    "        ),\n",
    "        \"SVM\"\n",
    "    )"
   ]
  },
  {
   "cell_type": "code",
   "execution_count": 89,
   "metadata": {},
   "outputs": [
    {
     "name": "stderr",
     "output_type": "stream",
     "text": [
      "100%|██████████| 3531/3531 [00:01<00:00, 1876.62it/s]\n"
     ]
    },
    {
     "name": "stdout",
     "output_type": "stream",
     "text": [
      "twitter-test1.txt (Naïve Bayes) F1-macro: 0.559\n"
     ]
    },
    {
     "data": {
      "image/png": "[encoded data removed]",
      "text/plain": [
       "<Figure size 640x480 with 2 Axes>"
      ]
     },
     "metadata": {},
     "output_type": "display_data"
    },
    {
     "name": "stderr",
     "output_type": "stream",
     "text": [
      "100%|██████████| 1853/1853 [00:00<00:00, 1879.02it/s]\n"
     ]
    },
    {
     "name": "stdout",
     "output_type": "stream",
     "text": [
      "twitter-test2.txt (Naïve Bayes) F1-macro: 0.547\n"
     ]
    },
    {
     "data": {
      "image/png": "[encoded data removed]",
      "text/plain": [
       "<Figure size 640x480 with 2 Axes>"
      ]
     },
     "metadata": {},
     "output_type": "display_data"
    },
    {
     "name": "stderr",
     "output_type": "stream",
     "text": [
      "100%|██████████| 2379/2379 [00:01<00:00, 1870.56it/s]\n"
     ]
    },
    {
     "name": "stdout",
     "output_type": "stream",
     "text": [
      "twitter-test3.txt (Naïve Bayes) F1-macro: 0.538\n"
     ]
    },
    {
     "data": {
      "image/png": "[encoded data removed]",
      "text/plain": [
       "<Figure size 640x480 with 2 Axes>"
      ]
     },
     "metadata": {},
     "output_type": "display_data"
    }
   ],
   "source": [
    "for test_set_index in range(numbers_of_test_sets):\n",
    "    show_skeleton_results(\n",
    "        test_set_index,\n",
    "        predict_from_single_test_set(\n",
    "            test_set_index,\n",
    "            naive_bayes_atomic_predict_process\n",
    "        ),\n",
    "        \"Naïve Bayes\"\n",
    "    )"
   ]
  },
  {
   "cell_type": "code",
   "execution_count": 90,
   "metadata": {},
   "outputs": [
    {
     "name": "stderr",
     "output_type": "stream",
     "text": [
      "100%|██████████| 3531/3531 [00:04<00:00, 802.12it/s]\n"
     ]
    },
    {
     "name": "stdout",
     "output_type": "stream",
     "text": [
      "twitter-test1.txt (LSTM) F1-macro: 0.612\n"
     ]
    },
    {
     "data": {
      "image/png": "[encoded data removed]",
      "text/plain": [
       "<Figure size 640x480 with 2 Axes>"
      ]
     },
     "metadata": {},
     "output_type": "display_data"
    },
    {
     "name": "stderr",
     "output_type": "stream",
     "text": [
      "100%|██████████| 1853/1853 [00:02<00:00, 855.72it/s]\n"
     ]
    },
    {
     "name": "stdout",
     "output_type": "stream",
     "text": [
      "twitter-test2.txt (LSTM) F1-macro: 0.605\n"
     ]
    },
    {
     "data": {
      "image/png": "[encoded data removed]",
      "text/plain": [
       "<Figure size 640x480 with 2 Axes>"
      ]
     },
     "metadata": {},
     "output_type": "display_data"
    },
    {
     "name": "stderr",
     "output_type": "stream",
     "text": [
      "100%|██████████| 2379/2379 [00:02<00:00, 915.54it/s]\n"
     ]
    },
    {
     "name": "stdout",
     "output_type": "stream",
     "text": [
      "twitter-test3.txt (LSTM) F1-macro: 0.599\n"
     ]
    },
    {
     "data": {
      "image/png": "[encoded data removed]",
      "text/plain": [
       "<Figure size 640x480 with 2 Axes>"
      ]
     },
     "metadata": {},
     "output_type": "display_data"
    }
   ],
   "source": [
    "for test_set_index in range(numbers_of_test_sets):\n",
    "    show_skeleton_results(\n",
    "        test_set_index,\n",
    "        predict_from_single_test_set(\n",
    "            test_set_index,\n",
    "            lstm_atomic_predict_process\n",
    "        ),\n",
    "        \"LSTM\"\n",
    "    )"
   ]
  },
  {
   "cell_type": "code",
   "execution_count": 91,
   "metadata": {},
   "outputs": [
    {
     "name": "stderr",
     "output_type": "stream",
     "text": [
      "100%|██████████| 3531/3531 [00:39<00:00, 90.34it/s]\n"
     ]
    },
    {
     "name": "stdout",
     "output_type": "stream",
     "text": [
      "twitter-test1.txt (Fine-tuned BERT) F1-macro: 0.645\n"
     ]
    },
    {
     "data": {
      "image/png": "[encoded data removed]",
      "text/plain": [
       "<Figure size 640x480 with 2 Axes>"
      ]
     },
     "metadata": {},
     "output_type": "display_data"
    },
    {
     "name": "stderr",
     "output_type": "stream",
     "text": [
      "100%|██████████| 1853/1853 [00:17<00:00, 106.95it/s]\n"
     ]
    },
    {
     "name": "stdout",
     "output_type": "stream",
     "text": [
      "twitter-test2.txt (Fine-tuned BERT) F1-macro: 0.642\n"
     ]
    },
    {
     "data": {
      "image/png": "[encoded data removed]",
      "text/plain": [
       "<Figure size 640x480 with 2 Axes>"
      ]
     },
     "metadata": {},
     "output_type": "display_data"
    },
    {
     "name": "stderr",
     "output_type": "stream",
     "text": [
      "100%|██████████| 2379/2379 [00:22<00:00, 104.20it/s]\n"
     ]
    },
    {
     "name": "stdout",
     "output_type": "stream",
     "text": [
      "twitter-test3.txt (Fine-tuned BERT) F1-macro: 0.614\n"
     ]
    },
    {
     "data": {
      "image/png": "[encoded data removed]",
      "text/plain": [
       "<Figure size 640x480 with 2 Axes>"
      ]
     },
     "metadata": {},
     "output_type": "display_data"
    }
   ],
   "source": [
    "for test_set_index in range(numbers_of_test_sets):\n",
    "    show_skeleton_results(\n",
    "        test_set_index,\n",
    "        predict_from_single_test_set(\n",
    "            test_set_index,\n",
    "            bert_atomic_predict_process\n",
    "        ),\n",
    "        \"Fine-tuned BERT\"\n",
    "    )"
   ]
  }
 ],
 "metadata": {
  "kernelspec": {
   "display_name": "Python 3 (ipykernel)",
   "language": "python",
   "name": "python3"
  },
  "language_info": {
   "codemirror_mode": {
    "name": "ipython",
    "version": 3
   },
   "file_extension": ".py",
   "mimetype": "text/x-python",
   "name": "python",
   "nbconvert_exporter": "python",
   "pygments_lexer": "ipython3",
   "version": "3.12.2"
  }
 },
 "nbformat": 4,
 "nbformat_minor": 4
}
